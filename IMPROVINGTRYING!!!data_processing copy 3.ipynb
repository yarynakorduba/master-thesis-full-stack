{
 "cells": [
  {
   "cell_type": "code",
   "execution_count": 208,
   "metadata": {},
   "outputs": [],
   "source": [
    "from statsmodels.tsa.stattools import adfuller\n",
    "import numpy as np\n",
    "import pandas as pd\n",
    "import matplotlib.pyplot as plt\n",
    "from statsmodels.tsa.arima.model import ARIMA\n",
    "from sklearn.preprocessing import StandardScaler\n",
    "\n",
    "import json"
   ]
  },
  {
   "cell_type": "code",
   "execution_count": 209,
   "metadata": {},
   "outputs": [],
   "source": [
    "# f = open()\n",
    "data_df = pd.read_json('src/api/data/AIR_Q_TU_Graz/output_chunk_6_cut_out_coarse_grained_1minute.json')\n"
   ]
  },
  {
   "cell_type": "code",
   "execution_count": 210,
   "metadata": {},
   "outputs": [
    {
     "data": {
      "text/html": [
       "<div>\n",
       "<style scoped>\n",
       "    .dataframe tbody tr th:only-of-type {\n",
       "        vertical-align: middle;\n",
       "    }\n",
       "\n",
       "    .dataframe tbody tr th {\n",
       "        vertical-align: top;\n",
       "    }\n",
       "\n",
       "    .dataframe thead th {\n",
       "        text-align: right;\n",
       "    }\n",
       "</style>\n",
       "<table border=\"1\" class=\"dataframe\">\n",
       "  <thead>\n",
       "    <tr style=\"text-align: right;\">\n",
       "      <th></th>\n",
       "      <th>oxygen</th>\n",
       "      <th>health</th>\n",
       "      <th>dewpt</th>\n",
       "      <th>TypPS</th>\n",
       "      <th>gauss</th>\n",
       "      <th>sound</th>\n",
       "      <th>temperature</th>\n",
       "      <th>co2</th>\n",
       "      <th>timestamp</th>\n",
       "    </tr>\n",
       "  </thead>\n",
       "  <tbody>\n",
       "    <tr>\n",
       "      <th>0</th>\n",
       "      <td>20.764444</td>\n",
       "      <td>737.111111</td>\n",
       "      <td>10.087778</td>\n",
       "      <td>1.722222</td>\n",
       "      <td>0.375576</td>\n",
       "      <td>74.277780</td>\n",
       "      <td>17.724889</td>\n",
       "      <td>623.055544</td>\n",
       "      <td>2023-10-19 07:13:00</td>\n",
       "    </tr>\n",
       "    <tr>\n",
       "      <th>1</th>\n",
       "      <td>20.769000</td>\n",
       "      <td>738.500000</td>\n",
       "      <td>10.103000</td>\n",
       "      <td>1.450000</td>\n",
       "      <td>0.701922</td>\n",
       "      <td>74.280000</td>\n",
       "      <td>17.746500</td>\n",
       "      <td>625.550000</td>\n",
       "      <td>2023-10-19 07:14:00</td>\n",
       "    </tr>\n",
       "    <tr>\n",
       "      <th>2</th>\n",
       "      <td>20.763000</td>\n",
       "      <td>666.333333</td>\n",
       "      <td>10.164000</td>\n",
       "      <td>1.833333</td>\n",
       "      <td>0.610247</td>\n",
       "      <td>74.803333</td>\n",
       "      <td>17.807333</td>\n",
       "      <td>632.800000</td>\n",
       "      <td>2023-10-19 07:15:00</td>\n",
       "    </tr>\n",
       "    <tr>\n",
       "      <th>3</th>\n",
       "      <td>20.765556</td>\n",
       "      <td>717.444444</td>\n",
       "      <td>10.180111</td>\n",
       "      <td>1.611111</td>\n",
       "      <td>0.340111</td>\n",
       "      <td>73.571112</td>\n",
       "      <td>17.827889</td>\n",
       "      <td>644.177778</td>\n",
       "      <td>2023-10-19 07:16:00</td>\n",
       "    </tr>\n",
       "    <tr>\n",
       "      <th>4</th>\n",
       "      <td>20.771500</td>\n",
       "      <td>761.666667</td>\n",
       "      <td>10.200333</td>\n",
       "      <td>1.550000</td>\n",
       "      <td>0.410790</td>\n",
       "      <td>72.431667</td>\n",
       "      <td>17.863000</td>\n",
       "      <td>655.483333</td>\n",
       "      <td>2023-10-19 07:17:00</td>\n",
       "    </tr>\n",
       "    <tr>\n",
       "      <th>...</th>\n",
       "      <td>...</td>\n",
       "      <td>...</td>\n",
       "      <td>...</td>\n",
       "      <td>...</td>\n",
       "      <td>...</td>\n",
       "      <td>...</td>\n",
       "      <td>...</td>\n",
       "      <td>...</td>\n",
       "      <td>...</td>\n",
       "    </tr>\n",
       "    <tr>\n",
       "      <th>18282</th>\n",
       "      <td>20.787600</td>\n",
       "      <td>944.400000</td>\n",
       "      <td>11.591000</td>\n",
       "      <td>2.020000</td>\n",
       "      <td>0.476600</td>\n",
       "      <td>31.594000</td>\n",
       "      <td>18.544600</td>\n",
       "      <td>474.820000</td>\n",
       "      <td>2023-10-31 23:55:00</td>\n",
       "    </tr>\n",
       "    <tr>\n",
       "      <th>18283</th>\n",
       "      <td>20.787600</td>\n",
       "      <td>944.400000</td>\n",
       "      <td>11.591000</td>\n",
       "      <td>2.020000</td>\n",
       "      <td>0.476600</td>\n",
       "      <td>31.594000</td>\n",
       "      <td>18.544600</td>\n",
       "      <td>474.820000</td>\n",
       "      <td>2023-10-31 23:56:00</td>\n",
       "    </tr>\n",
       "    <tr>\n",
       "      <th>18284</th>\n",
       "      <td>20.787000</td>\n",
       "      <td>974.666667</td>\n",
       "      <td>11.586000</td>\n",
       "      <td>1.416667</td>\n",
       "      <td>0.413754</td>\n",
       "      <td>31.476667</td>\n",
       "      <td>18.545167</td>\n",
       "      <td>474.316667</td>\n",
       "      <td>2023-10-31 23:57:00</td>\n",
       "    </tr>\n",
       "    <tr>\n",
       "      <th>18285</th>\n",
       "      <td>20.788429</td>\n",
       "      <td>938.428571</td>\n",
       "      <td>11.592286</td>\n",
       "      <td>1.985714</td>\n",
       "      <td>0.575893</td>\n",
       "      <td>31.372857</td>\n",
       "      <td>18.543286</td>\n",
       "      <td>473.928571</td>\n",
       "      <td>2023-10-31 23:58:00</td>\n",
       "    </tr>\n",
       "    <tr>\n",
       "      <th>18286</th>\n",
       "      <td>20.788429</td>\n",
       "      <td>938.428571</td>\n",
       "      <td>11.592286</td>\n",
       "      <td>1.985714</td>\n",
       "      <td>0.575893</td>\n",
       "      <td>31.372857</td>\n",
       "      <td>18.543286</td>\n",
       "      <td>473.928571</td>\n",
       "      <td>2023-10-31 23:59:00</td>\n",
       "    </tr>\n",
       "  </tbody>\n",
       "</table>\n",
       "<p>18287 rows × 9 columns</p>\n",
       "</div>"
      ],
      "text/plain": [
       "          oxygen      health      dewpt     TypPS     gauss      sound  \\\n",
       "0      20.764444  737.111111  10.087778  1.722222  0.375576  74.277780   \n",
       "1      20.769000  738.500000  10.103000  1.450000  0.701922  74.280000   \n",
       "2      20.763000  666.333333  10.164000  1.833333  0.610247  74.803333   \n",
       "3      20.765556  717.444444  10.180111  1.611111  0.340111  73.571112   \n",
       "4      20.771500  761.666667  10.200333  1.550000  0.410790  72.431667   \n",
       "...          ...         ...        ...       ...       ...        ...   \n",
       "18282  20.787600  944.400000  11.591000  2.020000  0.476600  31.594000   \n",
       "18283  20.787600  944.400000  11.591000  2.020000  0.476600  31.594000   \n",
       "18284  20.787000  974.666667  11.586000  1.416667  0.413754  31.476667   \n",
       "18285  20.788429  938.428571  11.592286  1.985714  0.575893  31.372857   \n",
       "18286  20.788429  938.428571  11.592286  1.985714  0.575893  31.372857   \n",
       "\n",
       "       temperature         co2           timestamp  \n",
       "0        17.724889  623.055544 2023-10-19 07:13:00  \n",
       "1        17.746500  625.550000 2023-10-19 07:14:00  \n",
       "2        17.807333  632.800000 2023-10-19 07:15:00  \n",
       "3        17.827889  644.177778 2023-10-19 07:16:00  \n",
       "4        17.863000  655.483333 2023-10-19 07:17:00  \n",
       "...            ...         ...                 ...  \n",
       "18282    18.544600  474.820000 2023-10-31 23:55:00  \n",
       "18283    18.544600  474.820000 2023-10-31 23:56:00  \n",
       "18284    18.545167  474.316667 2023-10-31 23:57:00  \n",
       "18285    18.543286  473.928571 2023-10-31 23:58:00  \n",
       "18286    18.543286  473.928571 2023-10-31 23:59:00  \n",
       "\n",
       "[18287 rows x 9 columns]"
      ]
     },
     "execution_count": 210,
     "metadata": {},
     "output_type": "execute_result"
    }
   ],
   "source": [
    "data_df\n"
   ]
  },
  {
   "cell_type": "code",
   "execution_count": 211,
   "metadata": {},
   "outputs": [],
   "source": [
    "data_df['timestamp'] = pd.to_datetime(data_df['timestamp'])\n",
    "data_df.index = pd.DatetimeIndex(pd.to_datetime(data_df['timestamp'], unit=\"ms\")) #.sort_index(ascending=True, inplace=False)\n",
    "data_df = data_df.drop(columns=[\"timestamp\"])\n",
    "\n"
   ]
  },
  {
   "cell_type": "code",
   "execution_count": 212,
   "metadata": {},
   "outputs": [
    {
     "data": {
      "text/plain": [
       "oxygen          20.788429\n",
       "health         938.428571\n",
       "dewpt           11.592286\n",
       "TypPS            1.985714\n",
       "gauss            0.575893\n",
       "sound           31.372857\n",
       "temperature     18.543286\n",
       "co2            473.928571\n",
       "Name: 2023-10-31 23:59:00, dtype: float64"
      ]
     },
     "execution_count": 212,
     "metadata": {},
     "output_type": "execute_result"
    }
   ],
   "source": [
    "pos = data_df.index[-1]\n",
    "data_df.loc[pos]"
   ]
  },
  {
   "cell_type": "code",
   "execution_count": 213,
   "metadata": {},
   "outputs": [],
   "source": [
    "train_data_size = int(data_df.shape[0] * 0.6)\n",
    "df_train = data_df.iloc[:train_data_size]\n",
    "df_test = data_df.iloc[train_data_size:]"
   ]
  },
  {
   "cell_type": "code",
   "execution_count": 214,
   "metadata": {},
   "outputs": [],
   "source": [
    "def scale(df):\n",
    "  scaler = StandardScaler()\n",
    "  scaler.fit(df)\n",
    "\n",
    "        # Scale data using the previously defined scaler\n",
    "  df = pd.DataFrame(scaler.transform(df.copy()), \n",
    "                      columns=df.columns, \n",
    "                      index=df.index)\n",
    "  \n",
    "  return df, scaler\n",
    "\n",
    "\n",
    "def unscale(df, scaler):\n",
    "  df = pd.DataFrame(scaler.inverse_transform(df), \n",
    "                  columns=df.columns, \n",
    "                  index=df.index)\n",
    "  \n",
    "  return df"
   ]
  },
  {
   "cell_type": "code",
   "execution_count": 215,
   "metadata": {},
   "outputs": [],
   "source": [
    "def convert_data_to_stationary(df):\n",
    "      df_diff = df.copy()\n",
    "      first_elements = {}\n",
    "\n",
    "      def check_all_stationarities(df):\n",
    "        selected_ndiffs_dict = {}\n",
    "        for i in range(len(df.columns)):\n",
    "            # stationarity_test_result = test_stationarity_kpss_adf(df[df.columns[i]])\n",
    "            #is_var_stationary = stationarity_test_result[\"kpss\"][\"isStationary\"] and stationarity_test_result[\"adf\"][\"isStationary\"]\n",
    "            # selected_ndiffs = np.max([stationarity_test_result[\"kpss\"][\"ndiffs\"], stationarity_test_result[\"adf\"][\"ndiffs\"]])\n",
    "            selected_ndiffs_dict[df.columns[i]] = 2#selected_ndiffs\n",
    "\n",
    "        return selected_ndiffs_dict\n",
    "      \n",
    "      selected_ndiffs = check_all_stationarities(df_diff)\n",
    "      # print(f\"Selected ndiffs {selected_ndiffs}\")\n",
    "      # Apply differencing to make data stationary\n",
    "      # i = 0\n",
    "      for key, value in selected_ndiffs.items():\n",
    "          print(f\"ndiffs {key} - {value}\")\n",
    "          for i in range(value):\n",
    "            existing_array = first_elements.get(key, [])\n",
    "            pos = df_diff[key].index[-1]\n",
    "            print(f\"POSITION > {pos}\")          \n",
    "            first_elements[key] = existing_array + [df_diff.loc[[pos],key]]\n",
    "            df_diff[key] = df_diff[key].diff()\n",
    "\n",
    "      max_diff = max(selected_ndiffs.values())\n",
    "      df_diff = df_diff[max_diff:]\n",
    "\n",
    "      return df_diff, selected_ndiffs, first_elements\n",
    "\n"
   ]
  },
  {
   "cell_type": "code",
   "execution_count": 216,
   "metadata": {},
   "outputs": [],
   "source": [
    "# def inverse_diff(s, last_observation):\n",
    "#     series_undifferenced = s.copy()\n",
    "\n",
    "#     series_undifferenced_shifted = pd.concat([last_observation, series_undifferenced], axis=0)\n",
    "\n",
    "#     series_undifferenced = series_undifferenced_shifted + series_undifferenced_shifted\n",
    "#     return series_undifferenced\n",
    "\n",
    "def inverse_diff(s, last_observation):\n",
    "    series_undifferenced = s.copy()\n",
    "    series_undifferenced_shifted = pd.concat([last_observation, series_undifferenced], axis=0)\n",
    "    for i in range(len(series_undifferenced)):\n",
    "        pos = series_undifferenced.index[i]\n",
    "        series_undifferenced_shifted[pos] = s.iloc[i]+series_undifferenced_shifted.iloc[i]\n",
    "    return series_undifferenced_shifted\n",
    "\n",
    "def df_inv_transformation(pred, diff_order, first_elements):\n",
    "    df_transformed = pred.copy()\n",
    "    # df_transformed = pd.DataFrame(scaler.inverse_transform(df_transformed), \n",
    "    #                 columns=df_transformed.columns, \n",
    "    #                 index=df_transformed.index)\n",
    "    # print(f\"Scaling back diff order {diff_order}\")\n",
    "  \n",
    "    for key, value in diff_order.items():\n",
    "        print(f\"KEY {key} - VAL {value}\")\n",
    "        for i in range(value):\n",
    "            print(f\"AAAAA var:{key} i:{i} first el:{first_elements[key][-1-i]}\")\n",
    "            df_transformed[key] = inverse_diff(df_transformed[key], first_elements[key][-1-i])\n",
    "\n",
    "    return df_transformed"
   ]
  },
  {
   "cell_type": "code",
   "execution_count": 217,
   "metadata": {},
   "outputs": [
    {
     "name": "stdout",
     "output_type": "stream",
     "text": [
      "ndiffs oxygen - 2\n",
      "POSITION > 2023-10-26 22:04:00\n",
      "POSITION > 2023-10-26 22:04:00\n",
      "ndiffs health - 2\n",
      "POSITION > 2023-10-26 22:04:00\n",
      "POSITION > 2023-10-26 22:04:00\n",
      "ndiffs dewpt - 2\n",
      "POSITION > 2023-10-26 22:04:00\n",
      "POSITION > 2023-10-26 22:04:00\n",
      "ndiffs TypPS - 2\n",
      "POSITION > 2023-10-26 22:04:00\n",
      "POSITION > 2023-10-26 22:04:00\n",
      "ndiffs gauss - 2\n",
      "POSITION > 2023-10-26 22:04:00\n",
      "POSITION > 2023-10-26 22:04:00\n",
      "ndiffs sound - 2\n",
      "POSITION > 2023-10-26 22:04:00\n",
      "POSITION > 2023-10-26 22:04:00\n",
      "ndiffs temperature - 2\n",
      "POSITION > 2023-10-26 22:04:00\n",
      "POSITION > 2023-10-26 22:04:00\n",
      "ndiffs co2 - 2\n",
      "POSITION > 2023-10-26 22:04:00\n",
      "POSITION > 2023-10-26 22:04:00\n",
      "ndiffs oxygen - 2\n",
      "POSITION > 2023-10-31 23:59:00\n",
      "POSITION > 2023-10-31 23:59:00\n",
      "ndiffs health - 2\n",
      "POSITION > 2023-10-31 23:59:00\n",
      "POSITION > 2023-10-31 23:59:00\n",
      "ndiffs dewpt - 2\n",
      "POSITION > 2023-10-31 23:59:00\n",
      "POSITION > 2023-10-31 23:59:00\n",
      "ndiffs TypPS - 2\n",
      "POSITION > 2023-10-31 23:59:00\n",
      "POSITION > 2023-10-31 23:59:00\n",
      "ndiffs gauss - 2\n",
      "POSITION > 2023-10-31 23:59:00\n",
      "POSITION > 2023-10-31 23:59:00\n",
      "ndiffs sound - 2\n",
      "POSITION > 2023-10-31 23:59:00\n",
      "POSITION > 2023-10-31 23:59:00\n",
      "ndiffs temperature - 2\n",
      "POSITION > 2023-10-31 23:59:00\n",
      "POSITION > 2023-10-31 23:59:00\n",
      "ndiffs co2 - 2\n",
      "POSITION > 2023-10-31 23:59:00\n",
      "POSITION > 2023-10-31 23:59:00\n"
     ]
    },
    {
     "data": {
      "text/html": [
       "<div>\n",
       "<style scoped>\n",
       "    .dataframe tbody tr th:only-of-type {\n",
       "        vertical-align: middle;\n",
       "    }\n",
       "\n",
       "    .dataframe tbody tr th {\n",
       "        vertical-align: top;\n",
       "    }\n",
       "\n",
       "    .dataframe thead th {\n",
       "        text-align: right;\n",
       "    }\n",
       "</style>\n",
       "<table border=\"1\" class=\"dataframe\">\n",
       "  <thead>\n",
       "    <tr style=\"text-align: right;\">\n",
       "      <th></th>\n",
       "      <th>oxygen</th>\n",
       "      <th>health</th>\n",
       "      <th>dewpt</th>\n",
       "      <th>TypPS</th>\n",
       "      <th>gauss</th>\n",
       "      <th>sound</th>\n",
       "      <th>temperature</th>\n",
       "      <th>co2</th>\n",
       "    </tr>\n",
       "    <tr>\n",
       "      <th>timestamp</th>\n",
       "      <th></th>\n",
       "      <th></th>\n",
       "      <th></th>\n",
       "      <th></th>\n",
       "      <th></th>\n",
       "      <th></th>\n",
       "      <th></th>\n",
       "      <th></th>\n",
       "    </tr>\n",
       "  </thead>\n",
       "  <tbody>\n",
       "    <tr>\n",
       "      <th>2023-10-26 22:05:00</th>\n",
       "      <td>-0.010167</td>\n",
       "      <td>-56.666667</td>\n",
       "      <td>-0.005167</td>\n",
       "      <td>1.708333</td>\n",
       "      <td>0.208995</td>\n",
       "      <td>0.147500</td>\n",
       "      <td>-0.002667</td>\n",
       "      <td>1.225025</td>\n",
       "    </tr>\n",
       "    <tr>\n",
       "      <th>2023-10-26 22:06:00</th>\n",
       "      <td>0.005250</td>\n",
       "      <td>17.250000</td>\n",
       "      <td>0.002250</td>\n",
       "      <td>-0.750000</td>\n",
       "      <td>-0.089408</td>\n",
       "      <td>0.005000</td>\n",
       "      <td>0.000250</td>\n",
       "      <td>-2.625013</td>\n",
       "    </tr>\n",
       "    <tr>\n",
       "      <th>2023-10-26 22:07:00</th>\n",
       "      <td>-0.000333</td>\n",
       "      <td>28.500000</td>\n",
       "      <td>0.001333</td>\n",
       "      <td>-0.291667</td>\n",
       "      <td>-0.041432</td>\n",
       "      <td>0.157500</td>\n",
       "      <td>0.001500</td>\n",
       "      <td>-1.558367</td>\n",
       "    </tr>\n",
       "    <tr>\n",
       "      <th>2023-10-26 22:08:00</th>\n",
       "      <td>-0.004333</td>\n",
       "      <td>-43.954545</td>\n",
       "      <td>-0.001848</td>\n",
       "      <td>0.021970</td>\n",
       "      <td>0.076023</td>\n",
       "      <td>-0.330227</td>\n",
       "      <td>-0.002682</td>\n",
       "      <td>1.891733</td>\n",
       "    </tr>\n",
       "    <tr>\n",
       "      <th>2023-10-26 22:09:00</th>\n",
       "      <td>0.004667</td>\n",
       "      <td>15.454545</td>\n",
       "      <td>0.000515</td>\n",
       "      <td>0.269697</td>\n",
       "      <td>-0.034591</td>\n",
       "      <td>0.172727</td>\n",
       "      <td>0.001182</td>\n",
       "      <td>-0.333367</td>\n",
       "    </tr>\n",
       "    <tr>\n",
       "      <th>...</th>\n",
       "      <td>...</td>\n",
       "      <td>...</td>\n",
       "      <td>...</td>\n",
       "      <td>...</td>\n",
       "      <td>...</td>\n",
       "      <td>...</td>\n",
       "      <td>...</td>\n",
       "      <td>...</td>\n",
       "    </tr>\n",
       "    <tr>\n",
       "      <th>2023-10-31 23:55:00</th>\n",
       "      <td>-0.001218</td>\n",
       "      <td>6.218182</td>\n",
       "      <td>0.006727</td>\n",
       "      <td>0.474545</td>\n",
       "      <td>0.154392</td>\n",
       "      <td>0.231273</td>\n",
       "      <td>0.003055</td>\n",
       "      <td>1.120000</td>\n",
       "    </tr>\n",
       "    <tr>\n",
       "      <th>2023-10-31 23:56:00</th>\n",
       "      <td>0.001218</td>\n",
       "      <td>-6.218182</td>\n",
       "      <td>-0.006727</td>\n",
       "      <td>-0.474545</td>\n",
       "      <td>-0.154392</td>\n",
       "      <td>-0.231273</td>\n",
       "      <td>-0.003055</td>\n",
       "      <td>-1.120000</td>\n",
       "    </tr>\n",
       "    <tr>\n",
       "      <th>2023-10-31 23:57:00</th>\n",
       "      <td>-0.000600</td>\n",
       "      <td>30.266667</td>\n",
       "      <td>-0.005000</td>\n",
       "      <td>-0.603333</td>\n",
       "      <td>-0.062846</td>\n",
       "      <td>-0.117333</td>\n",
       "      <td>0.000567</td>\n",
       "      <td>-0.503333</td>\n",
       "    </tr>\n",
       "    <tr>\n",
       "      <th>2023-10-31 23:58:00</th>\n",
       "      <td>0.002029</td>\n",
       "      <td>-66.504762</td>\n",
       "      <td>0.011286</td>\n",
       "      <td>1.172381</td>\n",
       "      <td>0.224985</td>\n",
       "      <td>0.013524</td>\n",
       "      <td>-0.002448</td>\n",
       "      <td>0.115238</td>\n",
       "    </tr>\n",
       "    <tr>\n",
       "      <th>2023-10-31 23:59:00</th>\n",
       "      <td>-0.001429</td>\n",
       "      <td>36.238095</td>\n",
       "      <td>-0.006286</td>\n",
       "      <td>-0.569048</td>\n",
       "      <td>-0.162139</td>\n",
       "      <td>0.103810</td>\n",
       "      <td>0.001881</td>\n",
       "      <td>0.388095</td>\n",
       "    </tr>\n",
       "  </tbody>\n",
       "</table>\n",
       "<p>7315 rows × 8 columns</p>\n",
       "</div>"
      ],
      "text/plain": [
       "                       oxygen     health     dewpt     TypPS     gauss  \\\n",
       "timestamp                                                                \n",
       "2023-10-26 22:05:00 -0.010167 -56.666667 -0.005167  1.708333  0.208995   \n",
       "2023-10-26 22:06:00  0.005250  17.250000  0.002250 -0.750000 -0.089408   \n",
       "2023-10-26 22:07:00 -0.000333  28.500000  0.001333 -0.291667 -0.041432   \n",
       "2023-10-26 22:08:00 -0.004333 -43.954545 -0.001848  0.021970  0.076023   \n",
       "2023-10-26 22:09:00  0.004667  15.454545  0.000515  0.269697 -0.034591   \n",
       "...                       ...        ...       ...       ...       ...   \n",
       "2023-10-31 23:55:00 -0.001218   6.218182  0.006727  0.474545  0.154392   \n",
       "2023-10-31 23:56:00  0.001218  -6.218182 -0.006727 -0.474545 -0.154392   \n",
       "2023-10-31 23:57:00 -0.000600  30.266667 -0.005000 -0.603333 -0.062846   \n",
       "2023-10-31 23:58:00  0.002029 -66.504762  0.011286  1.172381  0.224985   \n",
       "2023-10-31 23:59:00 -0.001429  36.238095 -0.006286 -0.569048 -0.162139   \n",
       "\n",
       "                        sound  temperature       co2  \n",
       "timestamp                                             \n",
       "2023-10-26 22:05:00  0.147500    -0.002667  1.225025  \n",
       "2023-10-26 22:06:00  0.005000     0.000250 -2.625013  \n",
       "2023-10-26 22:07:00  0.157500     0.001500 -1.558367  \n",
       "2023-10-26 22:08:00 -0.330227    -0.002682  1.891733  \n",
       "2023-10-26 22:09:00  0.172727     0.001182 -0.333367  \n",
       "...                       ...          ...       ...  \n",
       "2023-10-31 23:55:00  0.231273     0.003055  1.120000  \n",
       "2023-10-31 23:56:00 -0.231273    -0.003055 -1.120000  \n",
       "2023-10-31 23:57:00 -0.117333     0.000567 -0.503333  \n",
       "2023-10-31 23:58:00  0.013524    -0.002448  0.115238  \n",
       "2023-10-31 23:59:00  0.103810     0.001881  0.388095  \n",
       "\n",
       "[7315 rows x 8 columns]"
      ]
     },
     "execution_count": 217,
     "metadata": {},
     "output_type": "execute_result"
    }
   ],
   "source": [
    "df_train_transformed, diff_order, first_elements = convert_data_to_stationary(df_train)\n",
    "# df_train_transformed, df_train_transformed_scaler = scale(df_train_transformed)\n",
    "\n",
    "df_testtt = pd.concat([df_train.tail(2), df_test], axis=0) # tail equals hardcoded selected diff\n",
    "df_test_transformed, d, s = convert_data_to_stationary(df_testtt)\n",
    "# df_test_transformed, df_test_transformed_scaler = scale(df_test_transformed)\n",
    "df_test_transformed"
   ]
  },
  {
   "cell_type": "code",
   "execution_count": 218,
   "metadata": {},
   "outputs": [
    {
     "name": "stdout",
     "output_type": "stream",
     "text": [
      "KEY oxygen - VAL 2\n",
      "AAAAA var:oxygen i:0 first el:timestamp\n",
      "2023-10-26 22:04:00    0.004917\n",
      "Name: oxygen, dtype: float64\n",
      "AAAAA var:oxygen i:1 first el:timestamp\n",
      "2023-10-26 22:04:00    20.78625\n",
      "Name: oxygen, dtype: float64\n",
      "KEY health - VAL 2\n",
      "AAAAA var:health i:0 first el:timestamp\n",
      "2023-10-26 22:04:00    39.416667\n",
      "Name: health, dtype: float64\n",
      "AAAAA var:health i:1 first el:timestamp\n",
      "2023-10-26 22:04:00    962.75\n",
      "Name: health, dtype: float64\n",
      "KEY dewpt - VAL 2\n",
      "AAAAA var:dewpt i:0 first el:timestamp\n",
      "2023-10-26 22:04:00    0.002917\n",
      "Name: dewpt, dtype: float64\n",
      "AAAAA var:dewpt i:1 first el:timestamp\n",
      "2023-10-26 22:04:00    12.64425\n",
      "Name: dewpt, dtype: float64\n",
      "KEY TypPS - VAL 2\n",
      "AAAAA var:TypPS i:0 first el:timestamp\n",
      "2023-10-26 22:04:00   -0.958333\n",
      "Name: TypPS, dtype: float64\n",
      "AAAAA var:TypPS i:1 first el:timestamp\n",
      "2023-10-26 22:04:00    1.475\n",
      "Name: TypPS, dtype: float64\n",
      "KEY gauss - VAL 2\n",
      "AAAAA var:gauss i:0 first el:timestamp\n",
      "2023-10-26 22:04:00   -0.119586\n",
      "Name: gauss, dtype: float64\n",
      "AAAAA var:gauss i:1 first el:timestamp\n",
      "2023-10-26 22:04:00    0.460647\n",
      "Name: gauss, dtype: float64\n",
      "KEY sound - VAL 2\n",
      "AAAAA var:sound i:0 first el:timestamp\n",
      "2023-10-26 22:04:00   -0.1525\n",
      "Name: sound, dtype: float64\n",
      "AAAAA var:sound i:1 first el:timestamp\n",
      "2023-10-26 22:04:00    31.2975\n",
      "Name: sound, dtype: float64\n",
      "KEY temperature - VAL 2\n",
      "AAAAA var:temperature i:0 first el:timestamp\n",
      "2023-10-26 22:04:00    0.002417\n",
      "Name: temperature, dtype: float64\n",
      "AAAAA var:temperature i:1 first el:timestamp\n",
      "2023-10-26 22:04:00    19.00975\n",
      "Name: temperature, dtype: float64\n",
      "KEY co2 - VAL 2\n",
      "AAAAA var:co2 i:0 first el:timestamp\n",
      "2023-10-26 22:04:00    1.399987\n",
      "Name: co2, dtype: float64\n",
      "AAAAA var:co2 i:1 first el:timestamp\n",
      "2023-10-26 22:04:00    709.999987\n",
      "Name: co2, dtype: float64\n"
     ]
    }
   ],
   "source": [
    "# df_test_transformed = unscale(df_test_transformed, df_test_transformed_scaler)\n",
    "df_forecast_original = df_inv_transformation(df_test_transformed, diff_order, first_elements)\n"
   ]
  },
  {
   "cell_type": "code",
   "execution_count": 219,
   "metadata": {},
   "outputs": [
    {
     "data": {
      "text/html": [
       "<div>\n",
       "<style scoped>\n",
       "    .dataframe tbody tr th:only-of-type {\n",
       "        vertical-align: middle;\n",
       "    }\n",
       "\n",
       "    .dataframe tbody tr th {\n",
       "        vertical-align: top;\n",
       "    }\n",
       "\n",
       "    .dataframe thead th {\n",
       "        text-align: right;\n",
       "    }\n",
       "</style>\n",
       "<table border=\"1\" class=\"dataframe\">\n",
       "  <thead>\n",
       "    <tr style=\"text-align: right;\">\n",
       "      <th></th>\n",
       "      <th>oxygen</th>\n",
       "      <th>health</th>\n",
       "      <th>dewpt</th>\n",
       "      <th>TypPS</th>\n",
       "      <th>gauss</th>\n",
       "      <th>sound</th>\n",
       "      <th>temperature</th>\n",
       "      <th>co2</th>\n",
       "    </tr>\n",
       "    <tr>\n",
       "      <th>timestamp</th>\n",
       "      <th></th>\n",
       "      <th></th>\n",
       "      <th></th>\n",
       "      <th></th>\n",
       "      <th></th>\n",
       "      <th></th>\n",
       "      <th></th>\n",
       "      <th></th>\n",
       "    </tr>\n",
       "  </thead>\n",
       "  <tbody>\n",
       "    <tr>\n",
       "      <th>2023-10-26 22:05:00</th>\n",
       "      <td>20.781000</td>\n",
       "      <td>945.500000</td>\n",
       "      <td>12.642000</td>\n",
       "      <td>2.225000</td>\n",
       "      <td>0.550056</td>\n",
       "      <td>31.292500</td>\n",
       "      <td>19.009500</td>\n",
       "      <td>712.625000</td>\n",
       "    </tr>\n",
       "    <tr>\n",
       "      <th>2023-10-26 22:06:00</th>\n",
       "      <td>20.781000</td>\n",
       "      <td>945.500000</td>\n",
       "      <td>12.642000</td>\n",
       "      <td>2.225000</td>\n",
       "      <td>0.550056</td>\n",
       "      <td>31.292500</td>\n",
       "      <td>19.009500</td>\n",
       "      <td>712.625000</td>\n",
       "    </tr>\n",
       "    <tr>\n",
       "      <th>2023-10-26 22:07:00</th>\n",
       "      <td>20.780667</td>\n",
       "      <td>974.000000</td>\n",
       "      <td>12.643333</td>\n",
       "      <td>1.933333</td>\n",
       "      <td>0.508624</td>\n",
       "      <td>31.450000</td>\n",
       "      <td>19.011000</td>\n",
       "      <td>711.066633</td>\n",
       "    </tr>\n",
       "    <tr>\n",
       "      <th>2023-10-26 22:08:00</th>\n",
       "      <td>20.776000</td>\n",
       "      <td>958.545455</td>\n",
       "      <td>12.642818</td>\n",
       "      <td>1.663636</td>\n",
       "      <td>0.543214</td>\n",
       "      <td>31.277273</td>\n",
       "      <td>19.009818</td>\n",
       "      <td>711.400000</td>\n",
       "    </tr>\n",
       "    <tr>\n",
       "      <th>2023-10-26 22:09:00</th>\n",
       "      <td>20.776000</td>\n",
       "      <td>958.545455</td>\n",
       "      <td>12.642818</td>\n",
       "      <td>1.663636</td>\n",
       "      <td>0.543214</td>\n",
       "      <td>31.277273</td>\n",
       "      <td>19.009818</td>\n",
       "      <td>711.400000</td>\n",
       "    </tr>\n",
       "    <tr>\n",
       "      <th>2023-10-26 22:10:00</th>\n",
       "      <td>20.783800</td>\n",
       "      <td>940.000000</td>\n",
       "      <td>12.639200</td>\n",
       "      <td>1.920000</td>\n",
       "      <td>0.677151</td>\n",
       "      <td>31.326000</td>\n",
       "      <td>19.008000</td>\n",
       "      <td>712.459980</td>\n",
       "    </tr>\n",
       "    <tr>\n",
       "      <th>2023-10-26 22:11:00</th>\n",
       "      <td>20.783800</td>\n",
       "      <td>940.000000</td>\n",
       "      <td>12.639200</td>\n",
       "      <td>1.920000</td>\n",
       "      <td>0.677151</td>\n",
       "      <td>31.326000</td>\n",
       "      <td>19.008000</td>\n",
       "      <td>712.459980</td>\n",
       "    </tr>\n",
       "    <tr>\n",
       "      <th>2023-10-26 22:12:00</th>\n",
       "      <td>20.784500</td>\n",
       "      <td>972.666667</td>\n",
       "      <td>12.637667</td>\n",
       "      <td>1.350000</td>\n",
       "      <td>0.607951</td>\n",
       "      <td>31.415000</td>\n",
       "      <td>19.011000</td>\n",
       "      <td>711.683333</td>\n",
       "    </tr>\n",
       "    <tr>\n",
       "      <th>2023-10-26 22:13:00</th>\n",
       "      <td>20.779889</td>\n",
       "      <td>952.333333</td>\n",
       "      <td>12.633000</td>\n",
       "      <td>1.588889</td>\n",
       "      <td>0.372847</td>\n",
       "      <td>31.527778</td>\n",
       "      <td>19.015222</td>\n",
       "      <td>709.977767</td>\n",
       "    </tr>\n",
       "    <tr>\n",
       "      <th>2023-10-26 22:14:00</th>\n",
       "      <td>20.779889</td>\n",
       "      <td>952.333333</td>\n",
       "      <td>12.633000</td>\n",
       "      <td>1.588889</td>\n",
       "      <td>0.372847</td>\n",
       "      <td>31.527778</td>\n",
       "      <td>19.015222</td>\n",
       "      <td>709.977767</td>\n",
       "    </tr>\n",
       "  </tbody>\n",
       "</table>\n",
       "</div>"
      ],
      "text/plain": [
       "                        oxygen      health      dewpt     TypPS     gauss  \\\n",
       "timestamp                                                                   \n",
       "2023-10-26 22:05:00  20.781000  945.500000  12.642000  2.225000  0.550056   \n",
       "2023-10-26 22:06:00  20.781000  945.500000  12.642000  2.225000  0.550056   \n",
       "2023-10-26 22:07:00  20.780667  974.000000  12.643333  1.933333  0.508624   \n",
       "2023-10-26 22:08:00  20.776000  958.545455  12.642818  1.663636  0.543214   \n",
       "2023-10-26 22:09:00  20.776000  958.545455  12.642818  1.663636  0.543214   \n",
       "2023-10-26 22:10:00  20.783800  940.000000  12.639200  1.920000  0.677151   \n",
       "2023-10-26 22:11:00  20.783800  940.000000  12.639200  1.920000  0.677151   \n",
       "2023-10-26 22:12:00  20.784500  972.666667  12.637667  1.350000  0.607951   \n",
       "2023-10-26 22:13:00  20.779889  952.333333  12.633000  1.588889  0.372847   \n",
       "2023-10-26 22:14:00  20.779889  952.333333  12.633000  1.588889  0.372847   \n",
       "\n",
       "                         sound  temperature         co2  \n",
       "timestamp                                                \n",
       "2023-10-26 22:05:00  31.292500    19.009500  712.625000  \n",
       "2023-10-26 22:06:00  31.292500    19.009500  712.625000  \n",
       "2023-10-26 22:07:00  31.450000    19.011000  711.066633  \n",
       "2023-10-26 22:08:00  31.277273    19.009818  711.400000  \n",
       "2023-10-26 22:09:00  31.277273    19.009818  711.400000  \n",
       "2023-10-26 22:10:00  31.326000    19.008000  712.459980  \n",
       "2023-10-26 22:11:00  31.326000    19.008000  712.459980  \n",
       "2023-10-26 22:12:00  31.415000    19.011000  711.683333  \n",
       "2023-10-26 22:13:00  31.527778    19.015222  709.977767  \n",
       "2023-10-26 22:14:00  31.527778    19.015222  709.977767  "
      ]
     },
     "execution_count": 219,
     "metadata": {},
     "output_type": "execute_result"
    }
   ],
   "source": [
    "df_forecast_original.head(10)"
   ]
  },
  {
   "cell_type": "code",
   "execution_count": 220,
   "metadata": {},
   "outputs": [
    {
     "data": {
      "text/html": [
       "<div>\n",
       "<style scoped>\n",
       "    .dataframe tbody tr th:only-of-type {\n",
       "        vertical-align: middle;\n",
       "    }\n",
       "\n",
       "    .dataframe tbody tr th {\n",
       "        vertical-align: top;\n",
       "    }\n",
       "\n",
       "    .dataframe thead th {\n",
       "        text-align: right;\n",
       "    }\n",
       "</style>\n",
       "<table border=\"1\" class=\"dataframe\">\n",
       "  <thead>\n",
       "    <tr style=\"text-align: right;\">\n",
       "      <th></th>\n",
       "      <th>oxygen</th>\n",
       "      <th>health</th>\n",
       "      <th>dewpt</th>\n",
       "      <th>TypPS</th>\n",
       "      <th>gauss</th>\n",
       "      <th>sound</th>\n",
       "      <th>temperature</th>\n",
       "      <th>co2</th>\n",
       "    </tr>\n",
       "    <tr>\n",
       "      <th>timestamp</th>\n",
       "      <th></th>\n",
       "      <th></th>\n",
       "      <th></th>\n",
       "      <th></th>\n",
       "      <th></th>\n",
       "      <th></th>\n",
       "      <th></th>\n",
       "      <th></th>\n",
       "    </tr>\n",
       "  </thead>\n",
       "  <tbody>\n",
       "    <tr>\n",
       "      <th>2023-10-26 22:05:00</th>\n",
       "      <td>20.781000</td>\n",
       "      <td>945.500000</td>\n",
       "      <td>12.642000</td>\n",
       "      <td>2.225000</td>\n",
       "      <td>0.550056</td>\n",
       "      <td>31.292500</td>\n",
       "      <td>19.009500</td>\n",
       "      <td>712.625000</td>\n",
       "    </tr>\n",
       "    <tr>\n",
       "      <th>2023-10-26 22:06:00</th>\n",
       "      <td>20.781000</td>\n",
       "      <td>945.500000</td>\n",
       "      <td>12.642000</td>\n",
       "      <td>2.225000</td>\n",
       "      <td>0.550056</td>\n",
       "      <td>31.292500</td>\n",
       "      <td>19.009500</td>\n",
       "      <td>712.625000</td>\n",
       "    </tr>\n",
       "    <tr>\n",
       "      <th>2023-10-26 22:07:00</th>\n",
       "      <td>20.780667</td>\n",
       "      <td>974.000000</td>\n",
       "      <td>12.643333</td>\n",
       "      <td>1.933333</td>\n",
       "      <td>0.508624</td>\n",
       "      <td>31.450000</td>\n",
       "      <td>19.011000</td>\n",
       "      <td>711.066633</td>\n",
       "    </tr>\n",
       "    <tr>\n",
       "      <th>2023-10-26 22:08:00</th>\n",
       "      <td>20.776000</td>\n",
       "      <td>958.545455</td>\n",
       "      <td>12.642818</td>\n",
       "      <td>1.663636</td>\n",
       "      <td>0.543214</td>\n",
       "      <td>31.277273</td>\n",
       "      <td>19.009818</td>\n",
       "      <td>711.400000</td>\n",
       "    </tr>\n",
       "    <tr>\n",
       "      <th>2023-10-26 22:09:00</th>\n",
       "      <td>20.776000</td>\n",
       "      <td>958.545455</td>\n",
       "      <td>12.642818</td>\n",
       "      <td>1.663636</td>\n",
       "      <td>0.543214</td>\n",
       "      <td>31.277273</td>\n",
       "      <td>19.009818</td>\n",
       "      <td>711.400000</td>\n",
       "    </tr>\n",
       "    <tr>\n",
       "      <th>2023-10-26 22:10:00</th>\n",
       "      <td>20.783800</td>\n",
       "      <td>940.000000</td>\n",
       "      <td>12.639200</td>\n",
       "      <td>1.920000</td>\n",
       "      <td>0.677151</td>\n",
       "      <td>31.326000</td>\n",
       "      <td>19.008000</td>\n",
       "      <td>712.459980</td>\n",
       "    </tr>\n",
       "    <tr>\n",
       "      <th>2023-10-26 22:11:00</th>\n",
       "      <td>20.783800</td>\n",
       "      <td>940.000000</td>\n",
       "      <td>12.639200</td>\n",
       "      <td>1.920000</td>\n",
       "      <td>0.677151</td>\n",
       "      <td>31.326000</td>\n",
       "      <td>19.008000</td>\n",
       "      <td>712.459980</td>\n",
       "    </tr>\n",
       "    <tr>\n",
       "      <th>2023-10-26 22:12:00</th>\n",
       "      <td>20.784500</td>\n",
       "      <td>972.666667</td>\n",
       "      <td>12.637667</td>\n",
       "      <td>1.350000</td>\n",
       "      <td>0.607951</td>\n",
       "      <td>31.415000</td>\n",
       "      <td>19.011000</td>\n",
       "      <td>711.683333</td>\n",
       "    </tr>\n",
       "    <tr>\n",
       "      <th>2023-10-26 22:13:00</th>\n",
       "      <td>20.779889</td>\n",
       "      <td>952.333333</td>\n",
       "      <td>12.633000</td>\n",
       "      <td>1.588889</td>\n",
       "      <td>0.372847</td>\n",
       "      <td>31.527778</td>\n",
       "      <td>19.015222</td>\n",
       "      <td>709.977767</td>\n",
       "    </tr>\n",
       "    <tr>\n",
       "      <th>2023-10-26 22:14:00</th>\n",
       "      <td>20.779889</td>\n",
       "      <td>952.333333</td>\n",
       "      <td>12.633000</td>\n",
       "      <td>1.588889</td>\n",
       "      <td>0.372847</td>\n",
       "      <td>31.527778</td>\n",
       "      <td>19.015222</td>\n",
       "      <td>709.977767</td>\n",
       "    </tr>\n",
       "    <tr>\n",
       "      <th>2023-10-26 22:15:00</th>\n",
       "      <td>20.778000</td>\n",
       "      <td>980.500000</td>\n",
       "      <td>12.631500</td>\n",
       "      <td>1.200000</td>\n",
       "      <td>0.487643</td>\n",
       "      <td>31.490000</td>\n",
       "      <td>19.016000</td>\n",
       "      <td>710.600000</td>\n",
       "    </tr>\n",
       "    <tr>\n",
       "      <th>2023-10-26 22:16:00</th>\n",
       "      <td>20.783000</td>\n",
       "      <td>900.000000</td>\n",
       "      <td>12.633000</td>\n",
       "      <td>2.100000</td>\n",
       "      <td>0.798602</td>\n",
       "      <td>31.420000</td>\n",
       "      <td>19.010000</td>\n",
       "      <td>708.200000</td>\n",
       "    </tr>\n",
       "    <tr>\n",
       "      <th>2023-10-26 22:17:00</th>\n",
       "      <td>20.781364</td>\n",
       "      <td>950.000000</td>\n",
       "      <td>12.626091</td>\n",
       "      <td>1.745455</td>\n",
       "      <td>0.444077</td>\n",
       "      <td>31.436364</td>\n",
       "      <td>19.014000</td>\n",
       "      <td>708.072718</td>\n",
       "    </tr>\n",
       "    <tr>\n",
       "      <th>2023-10-26 22:18:00</th>\n",
       "      <td>20.783667</td>\n",
       "      <td>939.833333</td>\n",
       "      <td>12.627667</td>\n",
       "      <td>2.750000</td>\n",
       "      <td>0.707850</td>\n",
       "      <td>31.208333</td>\n",
       "      <td>19.015833</td>\n",
       "      <td>707.266667</td>\n",
       "    </tr>\n",
       "    <tr>\n",
       "      <th>2023-10-26 22:19:00</th>\n",
       "      <td>20.783667</td>\n",
       "      <td>939.833333</td>\n",
       "      <td>12.627667</td>\n",
       "      <td>2.750000</td>\n",
       "      <td>0.707850</td>\n",
       "      <td>31.208333</td>\n",
       "      <td>19.015833</td>\n",
       "      <td>707.266667</td>\n",
       "    </tr>\n",
       "    <tr>\n",
       "      <th>2023-10-26 22:20:00</th>\n",
       "      <td>20.783000</td>\n",
       "      <td>972.000000</td>\n",
       "      <td>12.625800</td>\n",
       "      <td>1.860000</td>\n",
       "      <td>0.455681</td>\n",
       "      <td>31.376000</td>\n",
       "      <td>19.017400</td>\n",
       "      <td>708.580000</td>\n",
       "    </tr>\n",
       "    <tr>\n",
       "      <th>2023-10-26 22:21:00</th>\n",
       "      <td>20.781000</td>\n",
       "      <td>962.900000</td>\n",
       "      <td>12.620800</td>\n",
       "      <td>2.100000</td>\n",
       "      <td>0.481051</td>\n",
       "      <td>31.291000</td>\n",
       "      <td>19.015300</td>\n",
       "      <td>708.469990</td>\n",
       "    </tr>\n",
       "    <tr>\n",
       "      <th>2023-10-26 22:22:00</th>\n",
       "      <td>20.781000</td>\n",
       "      <td>962.900000</td>\n",
       "      <td>12.620800</td>\n",
       "      <td>2.100000</td>\n",
       "      <td>0.481051</td>\n",
       "      <td>31.291000</td>\n",
       "      <td>19.015300</td>\n",
       "      <td>708.469990</td>\n",
       "    </tr>\n",
       "    <tr>\n",
       "      <th>2023-10-26 22:23:00</th>\n",
       "      <td>20.780000</td>\n",
       "      <td>988.000000</td>\n",
       "      <td>12.621000</td>\n",
       "      <td>2.500000</td>\n",
       "      <td>0.243562</td>\n",
       "      <td>31.370000</td>\n",
       "      <td>19.016000</td>\n",
       "      <td>708.800000</td>\n",
       "    </tr>\n",
       "    <tr>\n",
       "      <th>2023-10-26 22:24:00</th>\n",
       "      <td>20.778333</td>\n",
       "      <td>916.666667</td>\n",
       "      <td>12.619000</td>\n",
       "      <td>1.900000</td>\n",
       "      <td>0.546021</td>\n",
       "      <td>31.186667</td>\n",
       "      <td>19.009333</td>\n",
       "      <td>710.000000</td>\n",
       "    </tr>\n",
       "  </tbody>\n",
       "</table>\n",
       "</div>"
      ],
      "text/plain": [
       "                        oxygen      health      dewpt     TypPS     gauss  \\\n",
       "timestamp                                                                   \n",
       "2023-10-26 22:05:00  20.781000  945.500000  12.642000  2.225000  0.550056   \n",
       "2023-10-26 22:06:00  20.781000  945.500000  12.642000  2.225000  0.550056   \n",
       "2023-10-26 22:07:00  20.780667  974.000000  12.643333  1.933333  0.508624   \n",
       "2023-10-26 22:08:00  20.776000  958.545455  12.642818  1.663636  0.543214   \n",
       "2023-10-26 22:09:00  20.776000  958.545455  12.642818  1.663636  0.543214   \n",
       "2023-10-26 22:10:00  20.783800  940.000000  12.639200  1.920000  0.677151   \n",
       "2023-10-26 22:11:00  20.783800  940.000000  12.639200  1.920000  0.677151   \n",
       "2023-10-26 22:12:00  20.784500  972.666667  12.637667  1.350000  0.607951   \n",
       "2023-10-26 22:13:00  20.779889  952.333333  12.633000  1.588889  0.372847   \n",
       "2023-10-26 22:14:00  20.779889  952.333333  12.633000  1.588889  0.372847   \n",
       "2023-10-26 22:15:00  20.778000  980.500000  12.631500  1.200000  0.487643   \n",
       "2023-10-26 22:16:00  20.783000  900.000000  12.633000  2.100000  0.798602   \n",
       "2023-10-26 22:17:00  20.781364  950.000000  12.626091  1.745455  0.444077   \n",
       "2023-10-26 22:18:00  20.783667  939.833333  12.627667  2.750000  0.707850   \n",
       "2023-10-26 22:19:00  20.783667  939.833333  12.627667  2.750000  0.707850   \n",
       "2023-10-26 22:20:00  20.783000  972.000000  12.625800  1.860000  0.455681   \n",
       "2023-10-26 22:21:00  20.781000  962.900000  12.620800  2.100000  0.481051   \n",
       "2023-10-26 22:22:00  20.781000  962.900000  12.620800  2.100000  0.481051   \n",
       "2023-10-26 22:23:00  20.780000  988.000000  12.621000  2.500000  0.243562   \n",
       "2023-10-26 22:24:00  20.778333  916.666667  12.619000  1.900000  0.546021   \n",
       "\n",
       "                         sound  temperature         co2  \n",
       "timestamp                                                \n",
       "2023-10-26 22:05:00  31.292500    19.009500  712.625000  \n",
       "2023-10-26 22:06:00  31.292500    19.009500  712.625000  \n",
       "2023-10-26 22:07:00  31.450000    19.011000  711.066633  \n",
       "2023-10-26 22:08:00  31.277273    19.009818  711.400000  \n",
       "2023-10-26 22:09:00  31.277273    19.009818  711.400000  \n",
       "2023-10-26 22:10:00  31.326000    19.008000  712.459980  \n",
       "2023-10-26 22:11:00  31.326000    19.008000  712.459980  \n",
       "2023-10-26 22:12:00  31.415000    19.011000  711.683333  \n",
       "2023-10-26 22:13:00  31.527778    19.015222  709.977767  \n",
       "2023-10-26 22:14:00  31.527778    19.015222  709.977767  \n",
       "2023-10-26 22:15:00  31.490000    19.016000  710.600000  \n",
       "2023-10-26 22:16:00  31.420000    19.010000  708.200000  \n",
       "2023-10-26 22:17:00  31.436364    19.014000  708.072718  \n",
       "2023-10-26 22:18:00  31.208333    19.015833  707.266667  \n",
       "2023-10-26 22:19:00  31.208333    19.015833  707.266667  \n",
       "2023-10-26 22:20:00  31.376000    19.017400  708.580000  \n",
       "2023-10-26 22:21:00  31.291000    19.015300  708.469990  \n",
       "2023-10-26 22:22:00  31.291000    19.015300  708.469990  \n",
       "2023-10-26 22:23:00  31.370000    19.016000  708.800000  \n",
       "2023-10-26 22:24:00  31.186667    19.009333  710.000000  "
      ]
     },
     "execution_count": 220,
     "metadata": {},
     "output_type": "execute_result"
    }
   ],
   "source": [
    "df_test.head(20)"
   ]
  },
  {
   "cell_type": "code",
   "execution_count": 221,
   "metadata": {},
   "outputs": [
    {
     "data": {
      "text/plain": [
       "<Axes: xlabel='timestamp'>"
      ]
     },
     "execution_count": 221,
     "metadata": {},
     "output_type": "execute_result"
    },
    {
     "data": {
      "image/png": "[encoded data removed]",
      "text/plain": [
       "<Figure size 640x480 with 1 Axes>"
      ]
     },
     "metadata": {},
     "output_type": "display_data"
    },
    {
     "data": {
      "image/png": "[encoded data removed]",
      "text/plain": [
       "<Figure size 640x480 with 1 Axes>"
      ]
     },
     "metadata": {},
     "output_type": "display_data"
    }
   ],
   "source": [
    "df_forecast_original.plot( y='oxygen')\n",
    "df_test.plot( y='oxygen')"
   ]
  },
  {
   "cell_type": "code",
   "execution_count": 222,
   "metadata": {},
   "outputs": [
    {
     "data": {
      "text/plain": [
       "<Axes: xlabel='timestamp'>"
      ]
     },
     "execution_count": 222,
     "metadata": {},
     "output_type": "execute_result"
    },
    {
     "data": {
      "image/png": "[encoded data removed]",
      "text/plain": [
       "<Figure size 640x480 with 1 Axes>"
      ]
     },
     "metadata": {},
     "output_type": "display_data"
    },
    {
     "data": {
      "image/png": "[encoded data removed]",
      "text/plain": [
       "<Figure size 640x480 with 1 Axes>"
      ]
     },
     "metadata": {},
     "output_type": "display_data"
    }
   ],
   "source": [
    "df_forecast_original.plot( y='sound')\n",
    "df_test.plot( y='sound')"
   ]
  },
  {
   "cell_type": "code",
   "execution_count": 223,
   "metadata": {},
   "outputs": [
    {
     "data": {
      "text/plain": [
       "<Axes: xlabel='timestamp'>"
      ]
     },
     "execution_count": 223,
     "metadata": {},
     "output_type": "execute_result"
    },
    {
     "data": {
      "image/png": "[encoded data removed]",
      "text/plain": [
       "<Figure size 640x480 with 1 Axes>"
      ]
     },
     "metadata": {},
     "output_type": "display_data"
    },
    {
     "data": {
      "image/png": "[encoded data removed]",
      "text/plain": [
       "<Figure size 640x480 with 1 Axes>"
      ]
     },
     "metadata": {},
     "output_type": "display_data"
    }
   ],
   "source": [
    "df_forecast_original.plot( y='temperature')\n",
    "df_test.plot( y='temperature')"
   ]
  },
  {
   "cell_type": "code",
   "execution_count": 224,
   "metadata": {},
   "outputs": [
    {
     "ename": "NameError",
     "evalue": "name 'my_range' is not defined",
     "output_type": "error",
     "traceback": [
      "\u001b[0;31m---------------------------------------------------------------------------\u001b[0m",
      "\u001b[0;31mNameError\u001b[0m                                 Traceback (most recent call last)",
      "Cell \u001b[0;32mIn[224], line 1\u001b[0m\n\u001b[0;32m----> 1\u001b[0m \u001b[43mmy_range\u001b[49m[\u001b[38;5;241m~\u001b[39mmy_range\u001b[38;5;241m.\u001b[39misin(data_df\u001b[38;5;241m.\u001b[39mindex)]\n",
      "\u001b[0;31mNameError\u001b[0m: name 'my_range' is not defined"
     ]
    }
   ],
   "source": [
    "my_range[~my_range.isin(data_df.index)]"
   ]
  },
  {
   "cell_type": "code",
   "execution_count": null,
   "metadata": {},
   "outputs": [],
   "source": [
    "data_df.size"
   ]
  },
  {
   "cell_type": "code",
   "execution_count": null,
   "metadata": {},
   "outputs": [],
   "source": [
    "data_df.duplicated().value_counts()\n",
    "data_df = data_df.drop_duplicates()\n",
    "\n"
   ]
  },
  {
   "cell_type": "code",
   "execution_count": null,
   "metadata": {},
   "outputs": [],
   "source": [
    "data_df.size"
   ]
  },
  {
   "cell_type": "code",
   "execution_count": null,
   "metadata": {},
   "outputs": [],
   "source": [
    "data_df_1m = data_df.groupby(pd.Grouper(key='timestamp', freq='1min')).mean()"
   ]
  },
  {
   "cell_type": "code",
   "execution_count": null,
   "metadata": {},
   "outputs": [],
   "source": [
    "data_df_1m"
   ]
  },
  {
   "cell_type": "code",
   "execution_count": null,
   "metadata": {},
   "outputs": [],
   "source": [
    "df_filled = data_df_1m.bfill()"
   ]
  },
  {
   "cell_type": "code",
   "execution_count": null,
   "metadata": {},
   "outputs": [],
   "source": [
    "df_filled"
   ]
  },
  {
   "cell_type": "code",
   "execution_count": null,
   "metadata": {},
   "outputs": [],
   "source": [
    "my_range_in1m = pd.date_range(start=df_filled.index.min(), end=df_filled.index.max(), freq='1min')\n"
   ]
  },
  {
   "cell_type": "code",
   "execution_count": null,
   "metadata": {},
   "outputs": [],
   "source": [
    "len(my_range_in1m[~my_range_in1m.isin(df_filled.index)])\n"
   ]
  },
  {
   "cell_type": "code",
   "execution_count": null,
   "metadata": {},
   "outputs": [],
   "source": [
    "df_filled[\"timestamp\"] = df_filled.index"
   ]
  },
  {
   "cell_type": "code",
   "execution_count": null,
   "metadata": {},
   "outputs": [],
   "source": [
    "df_filled.to_json('./src/api/data/AIR_Q_TU_Graz/output_chunk_6_cut_out_coarse_grained_1minute.json', orient=\"records\")"
   ]
  },
  {
   "cell_type": "code",
   "execution_count": null,
   "metadata": {},
   "outputs": [],
   "source": [
    "grouped = data_df.groupby('Entity')"
   ]
  },
  {
   "cell_type": "code",
   "execution_count": null,
   "metadata": {},
   "outputs": [],
   "source": [
    "data_df['Entity'].unique()"
   ]
  },
  {
   "cell_type": "code",
   "execution_count": null,
   "metadata": {},
   "outputs": [],
   "source": [
    "data_df = data_df[data_df[\"Entity\"] == 'Austria']"
   ]
  },
  {
   "cell_type": "code",
   "execution_count": null,
   "metadata": {},
   "outputs": [],
   "source": [
    "data_df"
   ]
  },
  {
   "cell_type": "code",
   "execution_count": null,
   "metadata": {},
   "outputs": [],
   "source": [
    "data_df.isna().sum()"
   ]
  },
  {
   "cell_type": "code",
   "execution_count": null,
   "metadata": {},
   "outputs": [],
   "source": [
    "data_df.index = pd.DatetimeIndex(pd.to_datetime(data_df[\"Day\"])) #.sort_index(ascending=True, inplace=False)\n"
   ]
  },
  {
   "cell_type": "code",
   "execution_count": null,
   "metadata": {},
   "outputs": [],
   "source": [
    "data_df"
   ]
  },
  {
   "cell_type": "code",
   "execution_count": null,
   "metadata": {},
   "outputs": [],
   "source": [
    "my_range = pd.date_range(start=data_df['Day'].min(), end=data_df['Day'].max(), freq='D')\n"
   ]
  },
  {
   "cell_type": "code",
   "execution_count": null,
   "metadata": {},
   "outputs": [],
   "source": [
    "len(my_range[~my_range.isin(data_df.index)])\n"
   ]
  },
  {
   "cell_type": "code",
   "execution_count": null,
   "metadata": {},
   "outputs": [],
   "source": [
    "my_range.drop_duplicates()"
   ]
  },
  {
   "cell_type": "code",
   "execution_count": null,
   "metadata": {},
   "outputs": [],
   "source": [
    "print(data_df.shape)\n",
    "new_df = pd.DataFrame()\n",
    "new_df.index = my_range\n",
    "new_df[\"Day\"] = my_range\n",
    "data_df = pd.merge(data_df, new_df, how=\"outer\", right_index=True, left_index=True, validate=\"many_to_many\")"
   ]
  },
  {
   "cell_type": "code",
   "execution_count": null,
   "metadata": {},
   "outputs": [],
   "source": [
    "data_df.index.drop_duplicates()\n",
    "print(data_df)\n"
   ]
  },
  {
   "cell_type": "code",
   "execution_count": null,
   "metadata": {},
   "outputs": [],
   "source": [
    "data_df = data_df.groupby(data_df.index).last()"
   ]
  },
  {
   "cell_type": "code",
   "execution_count": null,
   "metadata": {},
   "outputs": [],
   "source": [
    "data_df = data_df.drop_duplicates(keep='last')"
   ]
  },
  {
   "cell_type": "code",
   "execution_count": null,
   "metadata": {},
   "outputs": [],
   "source": [
    "print(f\"Duplicates: {data_df.index.duplicated()}\")\n"
   ]
  },
  {
   "cell_type": "code",
   "execution_count": null,
   "metadata": {},
   "outputs": [],
   "source": [
    "data_df = data_df.drop(columns=['Day_x', 'Day_y'])\n"
   ]
  },
  {
   "cell_type": "code",
   "execution_count": null,
   "metadata": {},
   "outputs": [],
   "source": [
    "data_df[\"Day\"] = data_df.index"
   ]
  },
  {
   "cell_type": "code",
   "execution_count": null,
   "metadata": {},
   "outputs": [],
   "source": [
    "data_df.isna().sum()"
   ]
  },
  {
   "cell_type": "code",
   "execution_count": null,
   "metadata": {},
   "outputs": [],
   "source": [
    "data_df = data_df.fillna(0)"
   ]
  },
  {
   "cell_type": "code",
   "execution_count": null,
   "metadata": {},
   "outputs": [],
   "source": [
    "data_df"
   ]
  },
  {
   "cell_type": "code",
   "execution_count": null,
   "metadata": {},
   "outputs": [],
   "source": [
    "data_df1 = pd.read_csv('src/api/data/weekly-covid-deaths.csv')"
   ]
  },
  {
   "cell_type": "code",
   "execution_count": null,
   "metadata": {},
   "outputs": [],
   "source": [
    "grouped = data_df1.groupby('Entity')\n"
   ]
  },
  {
   "cell_type": "code",
   "execution_count": null,
   "metadata": {},
   "outputs": [],
   "source": [
    "data_df1 = data_df1[data_df1[\"Entity\"] == 'Austria']"
   ]
  },
  {
   "cell_type": "code",
   "execution_count": null,
   "metadata": {},
   "outputs": [],
   "source": [
    "data_df1.isna().sum()"
   ]
  },
  {
   "cell_type": "code",
   "execution_count": null,
   "metadata": {},
   "outputs": [],
   "source": [
    "data_df1.index = pd.DatetimeIndex(pd.to_datetime(data_df1[\"Day\"])) #.sort_index(ascending=True, inplace=False)\n"
   ]
  },
  {
   "cell_type": "code",
   "execution_count": null,
   "metadata": {},
   "outputs": [],
   "source": [
    "data_df = data_df.drop(columns=['Entity', 'Code'])\n",
    "data_df"
   ]
  },
  {
   "cell_type": "code",
   "execution_count": null,
   "metadata": {},
   "outputs": [],
   "source": [
    "data_df1 = data_df1.drop(columns=['Entity', 'Code'])\n",
    "data_df1"
   ]
  },
  {
   "cell_type": "code",
   "execution_count": null,
   "metadata": {},
   "outputs": [],
   "source": [
    "joint = data_df.join(data_df1, how='inner', on=\"Day\")"
   ]
  },
  {
   "cell_type": "code",
   "execution_count": null,
   "metadata": {},
   "outputs": [],
   "source": [
    "joint"
   ]
  },
  {
   "cell_type": "code",
   "execution_count": null,
   "metadata": {},
   "outputs": [],
   "source": [
    "joint[\"timestamp\"] = joint.index"
   ]
  },
  {
   "cell_type": "code",
   "execution_count": null,
   "metadata": {},
   "outputs": [],
   "source": [
    "joint.to_json('./src/api/data/non-cumulative-deaths-and-cases-covid_14-08-24_Austria.json', orient=\"records\")"
   ]
  }
 ],
 "metadata": {
  "kernelspec": {
   "display_name": "Python 3",
   "language": "python",
   "name": "python3"
  },
  "language_info": {
   "codemirror_mode": {
    "name": "ipython",
    "version": 3
   },
   "file_extension": ".py",
   "mimetype": "text/x-python",
   "name": "python",
   "nbconvert_exporter": "python",
   "pygments_lexer": "ipython3",
   "version": "3.10.14"
  }
 },
 "nbformat": 4,
 "nbformat_minor": 2
}
