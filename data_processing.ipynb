{
 "cells": [
  {
   "cell_type": "code",
   "execution_count": 1,
   "metadata": {},
   "outputs": [],
   "source": [
    "from statsmodels.tsa.stattools import adfuller\n",
    "import numpy as np\n",
    "import pandas as pd\n",
    "import matplotlib.pyplot as plt\n",
    "from statsmodels.tsa.arima.model import ARIMA\n",
    "import json"
   ]
  },
  {
   "cell_type": "code",
   "execution_count": 33,
   "metadata": {},
   "outputs": [],
   "source": [
    "# f = open()\n",
    "data_df = pd.read_json('src/api/data/AIR_Q_TU_Graz/output_chunk_6_clean.json')"
   ]
  },
  {
   "cell_type": "code",
   "execution_count": 34,
   "metadata": {},
   "outputs": [],
   "source": [
    "data_df\n",
    "data_df = data_df.drop(columns=['tvoc'])"
   ]
  },
  {
   "cell_type": "code",
   "execution_count": 35,
   "metadata": {},
   "outputs": [
    {
     "data": {
      "text/html": [
       "<div>\n",
       "<style scoped>\n",
       "    .dataframe tbody tr th:only-of-type {\n",
       "        vertical-align: middle;\n",
       "    }\n",
       "\n",
       "    .dataframe tbody tr th {\n",
       "        vertical-align: top;\n",
       "    }\n",
       "\n",
       "    .dataframe thead th {\n",
       "        text-align: right;\n",
       "    }\n",
       "</style>\n",
       "<table border=\"1\" class=\"dataframe\">\n",
       "  <thead>\n",
       "    <tr style=\"text-align: right;\">\n",
       "      <th></th>\n",
       "      <th>oxygen</th>\n",
       "      <th>timestamp</th>\n",
       "      <th>health</th>\n",
       "      <th>dewpt</th>\n",
       "      <th>TypPS</th>\n",
       "      <th>gauss</th>\n",
       "      <th>sound</th>\n",
       "      <th>temperature</th>\n",
       "      <th>co2</th>\n",
       "    </tr>\n",
       "  </thead>\n",
       "  <tbody>\n",
       "    <tr>\n",
       "      <th>0</th>\n",
       "      <td>20.764</td>\n",
       "      <td>2023-10-19 07:13:12</td>\n",
       "      <td>761</td>\n",
       "      <td>10.067</td>\n",
       "      <td>1.7</td>\n",
       "      <td>0.209877</td>\n",
       "      <td>72.60000</td>\n",
       "      <td>17.708</td>\n",
       "      <td>617.8</td>\n",
       "    </tr>\n",
       "    <tr>\n",
       "      <th>1</th>\n",
       "      <td>20.763</td>\n",
       "      <td>2023-10-19 07:13:16</td>\n",
       "      <td>730</td>\n",
       "      <td>10.078</td>\n",
       "      <td>1.6</td>\n",
       "      <td>0.097164</td>\n",
       "      <td>74.72000</td>\n",
       "      <td>17.716</td>\n",
       "      <td>619.3</td>\n",
       "    </tr>\n",
       "    <tr>\n",
       "      <th>2</th>\n",
       "      <td>20.763</td>\n",
       "      <td>2023-10-19 07:13:20</td>\n",
       "      <td>723</td>\n",
       "      <td>10.094</td>\n",
       "      <td>1.6</td>\n",
       "      <td>0.117306</td>\n",
       "      <td>75.02000</td>\n",
       "      <td>17.721</td>\n",
       "      <td>620.8</td>\n",
       "    </tr>\n",
       "    <tr>\n",
       "      <th>3</th>\n",
       "      <td>20.763</td>\n",
       "      <td>2023-10-19 07:13:26</td>\n",
       "      <td>730</td>\n",
       "      <td>10.099</td>\n",
       "      <td>1.8</td>\n",
       "      <td>0.396152</td>\n",
       "      <td>75.25000</td>\n",
       "      <td>17.724</td>\n",
       "      <td>622.5</td>\n",
       "    </tr>\n",
       "    <tr>\n",
       "      <th>4</th>\n",
       "      <td>20.763</td>\n",
       "      <td>2023-10-19 07:13:30</td>\n",
       "      <td>743</td>\n",
       "      <td>10.096</td>\n",
       "      <td>1.9</td>\n",
       "      <td>0.841833</td>\n",
       "      <td>75.05001</td>\n",
       "      <td>17.726</td>\n",
       "      <td>623.8</td>\n",
       "    </tr>\n",
       "    <tr>\n",
       "      <th>...</th>\n",
       "      <td>...</td>\n",
       "      <td>...</td>\n",
       "      <td>...</td>\n",
       "      <td>...</td>\n",
       "      <td>...</td>\n",
       "      <td>...</td>\n",
       "      <td>...</td>\n",
       "      <td>...</td>\n",
       "      <td>...</td>\n",
       "    </tr>\n",
       "    <tr>\n",
       "      <th>78396</th>\n",
       "      <td>20.789</td>\n",
       "      <td>2023-10-31 23:59:25</td>\n",
       "      <td>931</td>\n",
       "      <td>11.594</td>\n",
       "      <td>2.1</td>\n",
       "      <td>0.545161</td>\n",
       "      <td>31.24000</td>\n",
       "      <td>18.544</td>\n",
       "      <td>473.6</td>\n",
       "    </tr>\n",
       "    <tr>\n",
       "      <th>78397</th>\n",
       "      <td>20.789</td>\n",
       "      <td>2023-10-31 23:59:29</td>\n",
       "      <td>944</td>\n",
       "      <td>11.592</td>\n",
       "      <td>1.8</td>\n",
       "      <td>0.651724</td>\n",
       "      <td>31.36000</td>\n",
       "      <td>18.544</td>\n",
       "      <td>473.8</td>\n",
       "    </tr>\n",
       "    <tr>\n",
       "      <th>78398</th>\n",
       "      <td>20.788</td>\n",
       "      <td>2023-10-31 23:59:33</td>\n",
       "      <td>953</td>\n",
       "      <td>11.589</td>\n",
       "      <td>1.7</td>\n",
       "      <td>0.891126</td>\n",
       "      <td>31.47000</td>\n",
       "      <td>18.542</td>\n",
       "      <td>474.1</td>\n",
       "    </tr>\n",
       "    <tr>\n",
       "      <th>78399</th>\n",
       "      <td>20.788</td>\n",
       "      <td>2023-10-31 23:59:38</td>\n",
       "      <td>962</td>\n",
       "      <td>11.590</td>\n",
       "      <td>1.6</td>\n",
       "      <td>0.398593</td>\n",
       "      <td>31.47000</td>\n",
       "      <td>18.543</td>\n",
       "      <td>474.6</td>\n",
       "    </tr>\n",
       "    <tr>\n",
       "      <th>78400</th>\n",
       "      <td>20.788</td>\n",
       "      <td>2023-10-31 23:59:43</td>\n",
       "      <td>968</td>\n",
       "      <td>11.589</td>\n",
       "      <td>1.5</td>\n",
       "      <td>0.959703</td>\n",
       "      <td>31.38000</td>\n",
       "      <td>18.542</td>\n",
       "      <td>475.0</td>\n",
       "    </tr>\n",
       "  </tbody>\n",
       "</table>\n",
       "<p>78401 rows × 9 columns</p>\n",
       "</div>"
      ],
      "text/plain": [
       "       oxygen           timestamp  health   dewpt  TypPS     gauss     sound  \\\n",
       "0      20.764 2023-10-19 07:13:12     761  10.067    1.7  0.209877  72.60000   \n",
       "1      20.763 2023-10-19 07:13:16     730  10.078    1.6  0.097164  74.72000   \n",
       "2      20.763 2023-10-19 07:13:20     723  10.094    1.6  0.117306  75.02000   \n",
       "3      20.763 2023-10-19 07:13:26     730  10.099    1.8  0.396152  75.25000   \n",
       "4      20.763 2023-10-19 07:13:30     743  10.096    1.9  0.841833  75.05001   \n",
       "...       ...                 ...     ...     ...    ...       ...       ...   \n",
       "78396  20.789 2023-10-31 23:59:25     931  11.594    2.1  0.545161  31.24000   \n",
       "78397  20.789 2023-10-31 23:59:29     944  11.592    1.8  0.651724  31.36000   \n",
       "78398  20.788 2023-10-31 23:59:33     953  11.589    1.7  0.891126  31.47000   \n",
       "78399  20.788 2023-10-31 23:59:38     962  11.590    1.6  0.398593  31.47000   \n",
       "78400  20.788 2023-10-31 23:59:43     968  11.589    1.5  0.959703  31.38000   \n",
       "\n",
       "       temperature    co2  \n",
       "0           17.708  617.8  \n",
       "1           17.716  619.3  \n",
       "2           17.721  620.8  \n",
       "3           17.724  622.5  \n",
       "4           17.726  623.8  \n",
       "...            ...    ...  \n",
       "78396       18.544  473.6  \n",
       "78397       18.544  473.8  \n",
       "78398       18.542  474.1  \n",
       "78399       18.543  474.6  \n",
       "78400       18.542  475.0  \n",
       "\n",
       "[78401 rows x 9 columns]"
      ]
     },
     "execution_count": 35,
     "metadata": {},
     "output_type": "execute_result"
    }
   ],
   "source": [
    "data_df\n"
   ]
  },
  {
   "cell_type": "code",
   "execution_count": 50,
   "metadata": {},
   "outputs": [],
   "source": [
    "data_df['timestamp'] = pd.to_datetime(data_df['timestamp'])\n"
   ]
  },
  {
   "cell_type": "code",
   "execution_count": 55,
   "metadata": {},
   "outputs": [
    {
     "data": {
      "text/plain": [
       "Timestamp('2023-10-19 07:13:12')"
      ]
     },
     "execution_count": 55,
     "metadata": {},
     "output_type": "execute_result"
    }
   ],
   "source": [
    "min(data_df['timestamp'])"
   ]
  },
  {
   "cell_type": "code",
   "execution_count": 56,
   "metadata": {},
   "outputs": [
    {
     "data": {
      "text/plain": [
       "Timestamp('2023-10-31 23:59:43')"
      ]
     },
     "execution_count": 56,
     "metadata": {},
     "output_type": "execute_result"
    }
   ],
   "source": [
    "max(data_df['timestamp'])"
   ]
  },
  {
   "cell_type": "code",
   "execution_count": 54,
   "metadata": {},
   "outputs": [],
   "source": [
    "#my_range = pd.date_range(start=data_df['Day'].min(), end=data_df['Day'].max(), freq='D')\n",
    "data_df.index = data_df[\"timestamp\"]\n",
    "data_df = data_df.sort_index(ascending=True)"
   ]
  },
  {
   "cell_type": "code",
   "execution_count": 57,
   "metadata": {},
   "outputs": [
    {
     "name": "stderr",
     "output_type": "stream",
     "text": [
      "/var/folders/xk/ct1qcm4j5ljdj441cx4jphvjp9l86x/T/ipykernel_24106/3396330028.py:1: FutureWarning: 'S' is deprecated and will be removed in a future version, please use 's' instead.\n",
      "  my_range = pd.date_range(start=data_df['timestamp'].min(), end=data_df['timestamp'].max(), freq='4S')\n"
     ]
    },
    {
     "data": {
      "text/plain": [
       "DatetimeIndex(['2023-10-19 07:13:12', '2023-10-19 07:13:16',\n",
       "               '2023-10-19 07:13:20', '2023-10-19 07:13:24',\n",
       "               '2023-10-19 07:13:28', '2023-10-19 07:13:32',\n",
       "               '2023-10-19 07:13:36', '2023-10-19 07:13:40',\n",
       "               '2023-10-19 07:13:44', '2023-10-19 07:13:48',\n",
       "               ...\n",
       "               '2023-10-31 23:59:04', '2023-10-31 23:59:08',\n",
       "               '2023-10-31 23:59:12', '2023-10-31 23:59:16',\n",
       "               '2023-10-31 23:59:20', '2023-10-31 23:59:24',\n",
       "               '2023-10-31 23:59:28', '2023-10-31 23:59:32',\n",
       "               '2023-10-31 23:59:36', '2023-10-31 23:59:40'],\n",
       "              dtype='datetime64[ns]', length=274298, freq='4s')"
      ]
     },
     "execution_count": 57,
     "metadata": {},
     "output_type": "execute_result"
    }
   ],
   "source": [
    "my_range = pd.date_range(start=data_df['timestamp'].min(), end=data_df['timestamp'].max(), freq='4S')\n",
    "my_range"
   ]
  },
  {
   "cell_type": "code",
   "execution_count": 61,
   "metadata": {},
   "outputs": [
    {
     "data": {
      "text/plain": [
       "254600"
      ]
     },
     "execution_count": 61,
     "metadata": {},
     "output_type": "execute_result"
    }
   ],
   "source": [
    "len(my_range[~my_range.isin(data_df.index)])\n"
   ]
  },
  {
   "cell_type": "code",
   "execution_count": 64,
   "metadata": {},
   "outputs": [
    {
     "data": {
      "text/plain": [
       "705609"
      ]
     },
     "execution_count": 64,
     "metadata": {},
     "output_type": "execute_result"
    }
   ],
   "source": [
    "data_df.size"
   ]
  },
  {
   "cell_type": "code",
   "execution_count": 60,
   "metadata": {},
   "outputs": [
    {
     "data": {
      "text/plain": [
       "DatetimeIndex(['2023-10-19 07:13:24', '2023-10-19 07:13:28',\n",
       "               '2023-10-19 07:13:32', '2023-10-19 07:13:40',\n",
       "               '2023-10-19 07:13:44', '2023-10-19 07:13:52',\n",
       "               '2023-10-19 07:13:56', '2023-10-19 07:14:04',\n",
       "               '2023-10-19 07:14:08', '2023-10-19 07:14:12',\n",
       "               ...\n",
       "               '2023-10-31 23:59:00', '2023-10-31 23:59:04',\n",
       "               '2023-10-31 23:59:08', '2023-10-31 23:59:12',\n",
       "               '2023-10-31 23:59:20', '2023-10-31 23:59:24',\n",
       "               '2023-10-31 23:59:28', '2023-10-31 23:59:32',\n",
       "               '2023-10-31 23:59:36', '2023-10-31 23:59:40'],\n",
       "              dtype='datetime64[ns]', length=254600, freq=None)"
      ]
     },
     "execution_count": 60,
     "metadata": {},
     "output_type": "execute_result"
    }
   ],
   "source": [
    "my_range[~my_range.isin(data_df.index)]"
   ]
  },
  {
   "cell_type": "code",
   "execution_count": 39,
   "metadata": {},
   "outputs": [
    {
     "data": {
      "text/plain": [
       "705609"
      ]
     },
     "execution_count": 39,
     "metadata": {},
     "output_type": "execute_result"
    }
   ],
   "source": [
    "data_df.size"
   ]
  },
  {
   "cell_type": "code",
   "execution_count": 66,
   "metadata": {},
   "outputs": [],
   "source": [
    "data_df.duplicated().value_counts()\n",
    "data_df = data_df.drop_duplicates()\n",
    "\n"
   ]
  },
  {
   "cell_type": "code",
   "execution_count": 67,
   "metadata": {},
   "outputs": [
    {
     "data": {
      "text/plain": [
       "705609"
      ]
     },
     "execution_count": 67,
     "metadata": {},
     "output_type": "execute_result"
    }
   ],
   "source": [
    "data_df.size"
   ]
  },
  {
   "cell_type": "code",
   "execution_count": 68,
   "metadata": {},
   "outputs": [],
   "source": [
    "data_df_1m = data_df.groupby(pd.Grouper(key='timestamp', freq='1min')).mean()"
   ]
  },
  {
   "cell_type": "code",
   "execution_count": 69,
   "metadata": {},
   "outputs": [
    {
     "data": {
      "text/html": [
       "<div>\n",
       "<style scoped>\n",
       "    .dataframe tbody tr th:only-of-type {\n",
       "        vertical-align: middle;\n",
       "    }\n",
       "\n",
       "    .dataframe tbody tr th {\n",
       "        vertical-align: top;\n",
       "    }\n",
       "\n",
       "    .dataframe thead th {\n",
       "        text-align: right;\n",
       "    }\n",
       "</style>\n",
       "<table border=\"1\" class=\"dataframe\">\n",
       "  <thead>\n",
       "    <tr style=\"text-align: right;\">\n",
       "      <th></th>\n",
       "      <th>oxygen</th>\n",
       "      <th>health</th>\n",
       "      <th>dewpt</th>\n",
       "      <th>TypPS</th>\n",
       "      <th>gauss</th>\n",
       "      <th>sound</th>\n",
       "      <th>temperature</th>\n",
       "      <th>co2</th>\n",
       "    </tr>\n",
       "    <tr>\n",
       "      <th>timestamp</th>\n",
       "      <th></th>\n",
       "      <th></th>\n",
       "      <th></th>\n",
       "      <th></th>\n",
       "      <th></th>\n",
       "      <th></th>\n",
       "      <th></th>\n",
       "      <th></th>\n",
       "    </tr>\n",
       "  </thead>\n",
       "  <tbody>\n",
       "    <tr>\n",
       "      <th>2023-10-19 07:13:00</th>\n",
       "      <td>20.764444</td>\n",
       "      <td>737.111111</td>\n",
       "      <td>10.087778</td>\n",
       "      <td>1.722222</td>\n",
       "      <td>0.375576</td>\n",
       "      <td>74.277780</td>\n",
       "      <td>17.724889</td>\n",
       "      <td>623.055544</td>\n",
       "    </tr>\n",
       "    <tr>\n",
       "      <th>2023-10-19 07:14:00</th>\n",
       "      <td>20.769000</td>\n",
       "      <td>738.500000</td>\n",
       "      <td>10.103000</td>\n",
       "      <td>1.450000</td>\n",
       "      <td>0.701922</td>\n",
       "      <td>74.280000</td>\n",
       "      <td>17.746500</td>\n",
       "      <td>625.550000</td>\n",
       "    </tr>\n",
       "    <tr>\n",
       "      <th>2023-10-19 07:15:00</th>\n",
       "      <td>20.763000</td>\n",
       "      <td>666.333333</td>\n",
       "      <td>10.164000</td>\n",
       "      <td>1.833333</td>\n",
       "      <td>0.610247</td>\n",
       "      <td>74.803333</td>\n",
       "      <td>17.807333</td>\n",
       "      <td>632.800000</td>\n",
       "    </tr>\n",
       "    <tr>\n",
       "      <th>2023-10-19 07:16:00</th>\n",
       "      <td>20.765556</td>\n",
       "      <td>717.444444</td>\n",
       "      <td>10.180111</td>\n",
       "      <td>1.611111</td>\n",
       "      <td>0.340111</td>\n",
       "      <td>73.571112</td>\n",
       "      <td>17.827889</td>\n",
       "      <td>644.177778</td>\n",
       "    </tr>\n",
       "    <tr>\n",
       "      <th>2023-10-19 07:17:00</th>\n",
       "      <td>20.771500</td>\n",
       "      <td>761.666667</td>\n",
       "      <td>10.200333</td>\n",
       "      <td>1.550000</td>\n",
       "      <td>0.410790</td>\n",
       "      <td>72.431667</td>\n",
       "      <td>17.863000</td>\n",
       "      <td>655.483333</td>\n",
       "    </tr>\n",
       "    <tr>\n",
       "      <th>...</th>\n",
       "      <td>...</td>\n",
       "      <td>...</td>\n",
       "      <td>...</td>\n",
       "      <td>...</td>\n",
       "      <td>...</td>\n",
       "      <td>...</td>\n",
       "      <td>...</td>\n",
       "      <td>...</td>\n",
       "    </tr>\n",
       "    <tr>\n",
       "      <th>2023-10-31 23:55:00</th>\n",
       "      <td>NaN</td>\n",
       "      <td>NaN</td>\n",
       "      <td>NaN</td>\n",
       "      <td>NaN</td>\n",
       "      <td>NaN</td>\n",
       "      <td>NaN</td>\n",
       "      <td>NaN</td>\n",
       "      <td>NaN</td>\n",
       "    </tr>\n",
       "    <tr>\n",
       "      <th>2023-10-31 23:56:00</th>\n",
       "      <td>20.787600</td>\n",
       "      <td>944.400000</td>\n",
       "      <td>11.591000</td>\n",
       "      <td>2.020000</td>\n",
       "      <td>0.476600</td>\n",
       "      <td>31.594000</td>\n",
       "      <td>18.544600</td>\n",
       "      <td>474.820000</td>\n",
       "    </tr>\n",
       "    <tr>\n",
       "      <th>2023-10-31 23:57:00</th>\n",
       "      <td>20.787000</td>\n",
       "      <td>974.666667</td>\n",
       "      <td>11.586000</td>\n",
       "      <td>1.416667</td>\n",
       "      <td>0.413754</td>\n",
       "      <td>31.476667</td>\n",
       "      <td>18.545167</td>\n",
       "      <td>474.316667</td>\n",
       "    </tr>\n",
       "    <tr>\n",
       "      <th>2023-10-31 23:58:00</th>\n",
       "      <td>NaN</td>\n",
       "      <td>NaN</td>\n",
       "      <td>NaN</td>\n",
       "      <td>NaN</td>\n",
       "      <td>NaN</td>\n",
       "      <td>NaN</td>\n",
       "      <td>NaN</td>\n",
       "      <td>NaN</td>\n",
       "    </tr>\n",
       "    <tr>\n",
       "      <th>2023-10-31 23:59:00</th>\n",
       "      <td>20.788429</td>\n",
       "      <td>938.428571</td>\n",
       "      <td>11.592286</td>\n",
       "      <td>1.985714</td>\n",
       "      <td>0.575893</td>\n",
       "      <td>31.372857</td>\n",
       "      <td>18.543286</td>\n",
       "      <td>473.928571</td>\n",
       "    </tr>\n",
       "  </tbody>\n",
       "</table>\n",
       "<p>18287 rows × 8 columns</p>\n",
       "</div>"
      ],
      "text/plain": [
       "                        oxygen      health      dewpt     TypPS     gauss  \\\n",
       "timestamp                                                                   \n",
       "2023-10-19 07:13:00  20.764444  737.111111  10.087778  1.722222  0.375576   \n",
       "2023-10-19 07:14:00  20.769000  738.500000  10.103000  1.450000  0.701922   \n",
       "2023-10-19 07:15:00  20.763000  666.333333  10.164000  1.833333  0.610247   \n",
       "2023-10-19 07:16:00  20.765556  717.444444  10.180111  1.611111  0.340111   \n",
       "2023-10-19 07:17:00  20.771500  761.666667  10.200333  1.550000  0.410790   \n",
       "...                        ...         ...        ...       ...       ...   \n",
       "2023-10-31 23:55:00        NaN         NaN        NaN       NaN       NaN   \n",
       "2023-10-31 23:56:00  20.787600  944.400000  11.591000  2.020000  0.476600   \n",
       "2023-10-31 23:57:00  20.787000  974.666667  11.586000  1.416667  0.413754   \n",
       "2023-10-31 23:58:00        NaN         NaN        NaN       NaN       NaN   \n",
       "2023-10-31 23:59:00  20.788429  938.428571  11.592286  1.985714  0.575893   \n",
       "\n",
       "                         sound  temperature         co2  \n",
       "timestamp                                                \n",
       "2023-10-19 07:13:00  74.277780    17.724889  623.055544  \n",
       "2023-10-19 07:14:00  74.280000    17.746500  625.550000  \n",
       "2023-10-19 07:15:00  74.803333    17.807333  632.800000  \n",
       "2023-10-19 07:16:00  73.571112    17.827889  644.177778  \n",
       "2023-10-19 07:17:00  72.431667    17.863000  655.483333  \n",
       "...                        ...          ...         ...  \n",
       "2023-10-31 23:55:00        NaN          NaN         NaN  \n",
       "2023-10-31 23:56:00  31.594000    18.544600  474.820000  \n",
       "2023-10-31 23:57:00  31.476667    18.545167  474.316667  \n",
       "2023-10-31 23:58:00        NaN          NaN         NaN  \n",
       "2023-10-31 23:59:00  31.372857    18.543286  473.928571  \n",
       "\n",
       "[18287 rows x 8 columns]"
      ]
     },
     "execution_count": 69,
     "metadata": {},
     "output_type": "execute_result"
    }
   ],
   "source": [
    "data_df_1m"
   ]
  },
  {
   "cell_type": "code",
   "execution_count": 72,
   "metadata": {},
   "outputs": [],
   "source": [
    "df_filled = data_df_1m.bfill()"
   ]
  },
  {
   "cell_type": "code",
   "execution_count": 73,
   "metadata": {},
   "outputs": [
    {
     "data": {
      "text/html": [
       "<div>\n",
       "<style scoped>\n",
       "    .dataframe tbody tr th:only-of-type {\n",
       "        vertical-align: middle;\n",
       "    }\n",
       "\n",
       "    .dataframe tbody tr th {\n",
       "        vertical-align: top;\n",
       "    }\n",
       "\n",
       "    .dataframe thead th {\n",
       "        text-align: right;\n",
       "    }\n",
       "</style>\n",
       "<table border=\"1\" class=\"dataframe\">\n",
       "  <thead>\n",
       "    <tr style=\"text-align: right;\">\n",
       "      <th></th>\n",
       "      <th>oxygen</th>\n",
       "      <th>health</th>\n",
       "      <th>dewpt</th>\n",
       "      <th>TypPS</th>\n",
       "      <th>gauss</th>\n",
       "      <th>sound</th>\n",
       "      <th>temperature</th>\n",
       "      <th>co2</th>\n",
       "    </tr>\n",
       "    <tr>\n",
       "      <th>timestamp</th>\n",
       "      <th></th>\n",
       "      <th></th>\n",
       "      <th></th>\n",
       "      <th></th>\n",
       "      <th></th>\n",
       "      <th></th>\n",
       "      <th></th>\n",
       "      <th></th>\n",
       "    </tr>\n",
       "  </thead>\n",
       "  <tbody>\n",
       "    <tr>\n",
       "      <th>2023-10-19 07:13:00</th>\n",
       "      <td>20.764444</td>\n",
       "      <td>737.111111</td>\n",
       "      <td>10.087778</td>\n",
       "      <td>1.722222</td>\n",
       "      <td>0.375576</td>\n",
       "      <td>74.277780</td>\n",
       "      <td>17.724889</td>\n",
       "      <td>623.055544</td>\n",
       "    </tr>\n",
       "    <tr>\n",
       "      <th>2023-10-19 07:14:00</th>\n",
       "      <td>20.769000</td>\n",
       "      <td>738.500000</td>\n",
       "      <td>10.103000</td>\n",
       "      <td>1.450000</td>\n",
       "      <td>0.701922</td>\n",
       "      <td>74.280000</td>\n",
       "      <td>17.746500</td>\n",
       "      <td>625.550000</td>\n",
       "    </tr>\n",
       "    <tr>\n",
       "      <th>2023-10-19 07:15:00</th>\n",
       "      <td>20.763000</td>\n",
       "      <td>666.333333</td>\n",
       "      <td>10.164000</td>\n",
       "      <td>1.833333</td>\n",
       "      <td>0.610247</td>\n",
       "      <td>74.803333</td>\n",
       "      <td>17.807333</td>\n",
       "      <td>632.800000</td>\n",
       "    </tr>\n",
       "    <tr>\n",
       "      <th>2023-10-19 07:16:00</th>\n",
       "      <td>20.765556</td>\n",
       "      <td>717.444444</td>\n",
       "      <td>10.180111</td>\n",
       "      <td>1.611111</td>\n",
       "      <td>0.340111</td>\n",
       "      <td>73.571112</td>\n",
       "      <td>17.827889</td>\n",
       "      <td>644.177778</td>\n",
       "    </tr>\n",
       "    <tr>\n",
       "      <th>2023-10-19 07:17:00</th>\n",
       "      <td>20.771500</td>\n",
       "      <td>761.666667</td>\n",
       "      <td>10.200333</td>\n",
       "      <td>1.550000</td>\n",
       "      <td>0.410790</td>\n",
       "      <td>72.431667</td>\n",
       "      <td>17.863000</td>\n",
       "      <td>655.483333</td>\n",
       "    </tr>\n",
       "    <tr>\n",
       "      <th>...</th>\n",
       "      <td>...</td>\n",
       "      <td>...</td>\n",
       "      <td>...</td>\n",
       "      <td>...</td>\n",
       "      <td>...</td>\n",
       "      <td>...</td>\n",
       "      <td>...</td>\n",
       "      <td>...</td>\n",
       "    </tr>\n",
       "    <tr>\n",
       "      <th>2023-10-31 23:55:00</th>\n",
       "      <td>20.787600</td>\n",
       "      <td>944.400000</td>\n",
       "      <td>11.591000</td>\n",
       "      <td>2.020000</td>\n",
       "      <td>0.476600</td>\n",
       "      <td>31.594000</td>\n",
       "      <td>18.544600</td>\n",
       "      <td>474.820000</td>\n",
       "    </tr>\n",
       "    <tr>\n",
       "      <th>2023-10-31 23:56:00</th>\n",
       "      <td>20.787600</td>\n",
       "      <td>944.400000</td>\n",
       "      <td>11.591000</td>\n",
       "      <td>2.020000</td>\n",
       "      <td>0.476600</td>\n",
       "      <td>31.594000</td>\n",
       "      <td>18.544600</td>\n",
       "      <td>474.820000</td>\n",
       "    </tr>\n",
       "    <tr>\n",
       "      <th>2023-10-31 23:57:00</th>\n",
       "      <td>20.787000</td>\n",
       "      <td>974.666667</td>\n",
       "      <td>11.586000</td>\n",
       "      <td>1.416667</td>\n",
       "      <td>0.413754</td>\n",
       "      <td>31.476667</td>\n",
       "      <td>18.545167</td>\n",
       "      <td>474.316667</td>\n",
       "    </tr>\n",
       "    <tr>\n",
       "      <th>2023-10-31 23:58:00</th>\n",
       "      <td>20.788429</td>\n",
       "      <td>938.428571</td>\n",
       "      <td>11.592286</td>\n",
       "      <td>1.985714</td>\n",
       "      <td>0.575893</td>\n",
       "      <td>31.372857</td>\n",
       "      <td>18.543286</td>\n",
       "      <td>473.928571</td>\n",
       "    </tr>\n",
       "    <tr>\n",
       "      <th>2023-10-31 23:59:00</th>\n",
       "      <td>20.788429</td>\n",
       "      <td>938.428571</td>\n",
       "      <td>11.592286</td>\n",
       "      <td>1.985714</td>\n",
       "      <td>0.575893</td>\n",
       "      <td>31.372857</td>\n",
       "      <td>18.543286</td>\n",
       "      <td>473.928571</td>\n",
       "    </tr>\n",
       "  </tbody>\n",
       "</table>\n",
       "<p>18287 rows × 8 columns</p>\n",
       "</div>"
      ],
      "text/plain": [
       "                        oxygen      health      dewpt     TypPS     gauss  \\\n",
       "timestamp                                                                   \n",
       "2023-10-19 07:13:00  20.764444  737.111111  10.087778  1.722222  0.375576   \n",
       "2023-10-19 07:14:00  20.769000  738.500000  10.103000  1.450000  0.701922   \n",
       "2023-10-19 07:15:00  20.763000  666.333333  10.164000  1.833333  0.610247   \n",
       "2023-10-19 07:16:00  20.765556  717.444444  10.180111  1.611111  0.340111   \n",
       "2023-10-19 07:17:00  20.771500  761.666667  10.200333  1.550000  0.410790   \n",
       "...                        ...         ...        ...       ...       ...   \n",
       "2023-10-31 23:55:00  20.787600  944.400000  11.591000  2.020000  0.476600   \n",
       "2023-10-31 23:56:00  20.787600  944.400000  11.591000  2.020000  0.476600   \n",
       "2023-10-31 23:57:00  20.787000  974.666667  11.586000  1.416667  0.413754   \n",
       "2023-10-31 23:58:00  20.788429  938.428571  11.592286  1.985714  0.575893   \n",
       "2023-10-31 23:59:00  20.788429  938.428571  11.592286  1.985714  0.575893   \n",
       "\n",
       "                         sound  temperature         co2  \n",
       "timestamp                                                \n",
       "2023-10-19 07:13:00  74.277780    17.724889  623.055544  \n",
       "2023-10-19 07:14:00  74.280000    17.746500  625.550000  \n",
       "2023-10-19 07:15:00  74.803333    17.807333  632.800000  \n",
       "2023-10-19 07:16:00  73.571112    17.827889  644.177778  \n",
       "2023-10-19 07:17:00  72.431667    17.863000  655.483333  \n",
       "...                        ...          ...         ...  \n",
       "2023-10-31 23:55:00  31.594000    18.544600  474.820000  \n",
       "2023-10-31 23:56:00  31.594000    18.544600  474.820000  \n",
       "2023-10-31 23:57:00  31.476667    18.545167  474.316667  \n",
       "2023-10-31 23:58:00  31.372857    18.543286  473.928571  \n",
       "2023-10-31 23:59:00  31.372857    18.543286  473.928571  \n",
       "\n",
       "[18287 rows x 8 columns]"
      ]
     },
     "execution_count": 73,
     "metadata": {},
     "output_type": "execute_result"
    }
   ],
   "source": [
    "df_filled"
   ]
  },
  {
   "cell_type": "code",
   "execution_count": 75,
   "metadata": {},
   "outputs": [],
   "source": [
    "my_range_in1m = pd.date_range(start=df_filled.index.min(), end=df_filled.index.max(), freq='1min')\n"
   ]
  },
  {
   "cell_type": "code",
   "execution_count": 77,
   "metadata": {},
   "outputs": [
    {
     "data": {
      "text/plain": [
       "0"
      ]
     },
     "execution_count": 77,
     "metadata": {},
     "output_type": "execute_result"
    }
   ],
   "source": [
    "len(my_range_in1m[~my_range_in1m.isin(df_filled.index)])\n"
   ]
  },
  {
   "cell_type": "code",
   "execution_count": 79,
   "metadata": {},
   "outputs": [],
   "source": [
    "df_filled[\"timestamp\"] = df_filled.index"
   ]
  },
  {
   "cell_type": "code",
   "execution_count": 80,
   "metadata": {},
   "outputs": [],
   "source": [
    "df_filled.to_json('./src/api/data/AIR_Q_TU_Graz/output_chunk_6_cut_out_coarse_grained_1minute.json', orient=\"records\")"
   ]
  },
  {
   "cell_type": "code",
   "execution_count": 12,
   "metadata": {},
   "outputs": [],
   "source": [
    "grouped = data_df.groupby('Entity')"
   ]
  },
  {
   "cell_type": "code",
   "execution_count": 13,
   "metadata": {},
   "outputs": [
    {
     "data": {
      "text/plain": [
       "array(['Afghanistan', 'Africa', 'Albania', 'Algeria', 'American Samoa',\n",
       "       'Andorra', 'Angola', 'Anguilla', 'Antigua and Barbuda',\n",
       "       'Argentina', 'Armenia', 'Aruba', 'Asia', 'Asia excl. China',\n",
       "       'Australia', 'Austria', 'Azerbaijan', 'Bahamas', 'Bahrain',\n",
       "       'Bangladesh', 'Barbados', 'Belarus', 'Belgium', 'Belize', 'Benin',\n",
       "       'Bermuda', 'Bhutan', 'Bolivia', 'Bonaire Sint Eustatius and Saba',\n",
       "       'Bosnia and Herzegovina', 'Botswana', 'Brazil',\n",
       "       'British Virgin Islands', 'Brunei', 'Bulgaria', 'Burkina Faso',\n",
       "       'Burundi', 'Cambodia', 'Cameroon', 'Canada', 'Cape Verde',\n",
       "       'Cayman Islands', 'Central African Republic', 'Chad', 'Chile',\n",
       "       'China', 'Colombia', 'Comoros', 'Congo', 'Cook Islands',\n",
       "       'Costa Rica', \"Cote d'Ivoire\", 'Croatia', 'Cuba', 'Curacao',\n",
       "       'Cyprus', 'Czechia', 'Democratic Republic of Congo', 'Denmark',\n",
       "       'Djibouti', 'Dominica', 'Dominican Republic', 'East Timor',\n",
       "       'Ecuador', 'Egypt', 'El Salvador', 'Equatorial Guinea', 'Eritrea',\n",
       "       'Estonia', 'Eswatini', 'Ethiopia', 'Europe', 'European Union (27)',\n",
       "       'Falkland Islands', 'Faroe Islands', 'Fiji', 'Finland', 'France',\n",
       "       'French Guiana', 'French Polynesia', 'Gabon', 'Gambia', 'Georgia',\n",
       "       'Germany', 'Ghana', 'Gibraltar', 'Greece', 'Greenland', 'Grenada',\n",
       "       'Guadeloupe', 'Guam', 'Guatemala', 'Guernsey', 'Guinea',\n",
       "       'Guinea-Bissau', 'Guyana', 'Haiti', 'High-income countries',\n",
       "       'Honduras', 'Hungary', 'Iceland', 'India', 'Indonesia', 'Iran',\n",
       "       'Iraq', 'Ireland', 'Isle of Man', 'Israel', 'Italy', 'Jamaica',\n",
       "       'Japan', 'Jersey', 'Jordan', 'Kazakhstan', 'Kenya', 'Kiribati',\n",
       "       'Kosovo', 'Kuwait', 'Kyrgyzstan', 'Laos', 'Latvia', 'Lebanon',\n",
       "       'Lesotho', 'Liberia', 'Libya', 'Liechtenstein', 'Lithuania',\n",
       "       'Low-income countries', 'Lower-middle-income countries',\n",
       "       'Luxembourg', 'Madagascar', 'Malawi', 'Malaysia', 'Maldives',\n",
       "       'Mali', 'Malta', 'Marshall Islands', 'Martinique', 'Mauritania',\n",
       "       'Mauritius', 'Mayotte', 'Mexico', 'Micronesia (country)',\n",
       "       'Moldova', 'Monaco', 'Mongolia', 'Montenegro', 'Montserrat',\n",
       "       'Morocco', 'Mozambique', 'Myanmar', 'Namibia', 'Nauru', 'Nepal',\n",
       "       'Netherlands', 'New Caledonia', 'New Zealand', 'Nicaragua',\n",
       "       'Niger', 'Nigeria', 'Niue', 'North America', 'North Korea',\n",
       "       'North Macedonia', 'Northern Mariana Islands', 'Norway', 'Oceania',\n",
       "       'Oman', 'Pakistan', 'Palau', 'Palestine', 'Panama',\n",
       "       'Papua New Guinea', 'Paraguay', 'Peru', 'Philippines', 'Poland',\n",
       "       'Portugal', 'Puerto Rico', 'Qatar', 'Reunion', 'Romania', 'Russia',\n",
       "       'Rwanda', 'Saint Barthelemy', 'Saint Helena',\n",
       "       'Saint Kitts and Nevis', 'Saint Lucia',\n",
       "       'Saint Martin (French part)', 'Saint Pierre and Miquelon',\n",
       "       'Saint Vincent and the Grenadines', 'Samoa', 'San Marino',\n",
       "       'Sao Tome and Principe', 'Saudi Arabia', 'Senegal', 'Serbia',\n",
       "       'Seychelles', 'Sierra Leone', 'Singapore',\n",
       "       'Sint Maarten (Dutch part)', 'Slovakia', 'Slovenia',\n",
       "       'Solomon Islands', 'Somalia', 'South Africa', 'South America',\n",
       "       'South Korea', 'South Sudan', 'Spain', 'Sri Lanka', 'Sudan',\n",
       "       'Suriname', 'Sweden', 'Switzerland', 'Syria', 'Tajikistan',\n",
       "       'Tanzania', 'Thailand', 'Togo', 'Tokelau', 'Tonga',\n",
       "       'Trinidad and Tobago', 'Tunisia', 'Turkey', 'Turkmenistan',\n",
       "       'Turks and Caicos Islands', 'Tuvalu', 'Uganda', 'Ukraine',\n",
       "       'United Arab Emirates', 'United Kingdom', 'United States',\n",
       "       'United States Virgin Islands', 'Upper-middle-income countries',\n",
       "       'Uruguay', 'Uzbekistan', 'Vanuatu', 'Vatican', 'Venezuela',\n",
       "       'Vietnam', 'Wallis and Futuna', 'World', 'World excl. China',\n",
       "       'World excl. China and South Korea',\n",
       "       'World excl. China, South Korea, Japan and Singapore', 'Yemen',\n",
       "       'Zambia', 'Zimbabwe'], dtype=object)"
      ]
     },
     "execution_count": 13,
     "metadata": {},
     "output_type": "execute_result"
    }
   ],
   "source": [
    "data_df['Entity'].unique()"
   ]
  },
  {
   "cell_type": "code",
   "execution_count": 14,
   "metadata": {},
   "outputs": [],
   "source": [
    "data_df = data_df[data_df[\"Entity\"] == 'Austria']"
   ]
  },
  {
   "cell_type": "code",
   "execution_count": 15,
   "metadata": {},
   "outputs": [
    {
     "data": {
      "text/html": [
       "<div>\n",
       "<style scoped>\n",
       "    .dataframe tbody tr th:only-of-type {\n",
       "        vertical-align: middle;\n",
       "    }\n",
       "\n",
       "    .dataframe tbody tr th {\n",
       "        vertical-align: top;\n",
       "    }\n",
       "\n",
       "    .dataframe thead th {\n",
       "        text-align: right;\n",
       "    }\n",
       "</style>\n",
       "<table border=\"1\" class=\"dataframe\">\n",
       "  <thead>\n",
       "    <tr style=\"text-align: right;\">\n",
       "      <th></th>\n",
       "      <th>Entity</th>\n",
       "      <th>Code</th>\n",
       "      <th>Day</th>\n",
       "      <th>Weekly cases</th>\n",
       "    </tr>\n",
       "  </thead>\n",
       "  <tbody>\n",
       "    <tr>\n",
       "      <th>24930</th>\n",
       "      <td>Austria</td>\n",
       "      <td>AUT</td>\n",
       "      <td>2020-01-10</td>\n",
       "      <td>0</td>\n",
       "    </tr>\n",
       "    <tr>\n",
       "      <th>24931</th>\n",
       "      <td>Austria</td>\n",
       "      <td>AUT</td>\n",
       "      <td>2020-01-11</td>\n",
       "      <td>0</td>\n",
       "    </tr>\n",
       "    <tr>\n",
       "      <th>24932</th>\n",
       "      <td>Austria</td>\n",
       "      <td>AUT</td>\n",
       "      <td>2020-01-12</td>\n",
       "      <td>0</td>\n",
       "    </tr>\n",
       "    <tr>\n",
       "      <th>24933</th>\n",
       "      <td>Austria</td>\n",
       "      <td>AUT</td>\n",
       "      <td>2020-01-13</td>\n",
       "      <td>0</td>\n",
       "    </tr>\n",
       "    <tr>\n",
       "      <th>24934</th>\n",
       "      <td>Austria</td>\n",
       "      <td>AUT</td>\n",
       "      <td>2020-01-14</td>\n",
       "      <td>0</td>\n",
       "    </tr>\n",
       "    <tr>\n",
       "      <th>...</th>\n",
       "      <td>...</td>\n",
       "      <td>...</td>\n",
       "      <td>...</td>\n",
       "      <td>...</td>\n",
       "    </tr>\n",
       "    <tr>\n",
       "      <th>26587</th>\n",
       "      <td>Austria</td>\n",
       "      <td>AUT</td>\n",
       "      <td>2024-07-24</td>\n",
       "      <td>12</td>\n",
       "    </tr>\n",
       "    <tr>\n",
       "      <th>26588</th>\n",
       "      <td>Austria</td>\n",
       "      <td>AUT</td>\n",
       "      <td>2024-07-25</td>\n",
       "      <td>12</td>\n",
       "    </tr>\n",
       "    <tr>\n",
       "      <th>26589</th>\n",
       "      <td>Austria</td>\n",
       "      <td>AUT</td>\n",
       "      <td>2024-07-26</td>\n",
       "      <td>12</td>\n",
       "    </tr>\n",
       "    <tr>\n",
       "      <th>26590</th>\n",
       "      <td>Austria</td>\n",
       "      <td>AUT</td>\n",
       "      <td>2024-07-27</td>\n",
       "      <td>12</td>\n",
       "    </tr>\n",
       "    <tr>\n",
       "      <th>26591</th>\n",
       "      <td>Austria</td>\n",
       "      <td>AUT</td>\n",
       "      <td>2024-07-28</td>\n",
       "      <td>15</td>\n",
       "    </tr>\n",
       "  </tbody>\n",
       "</table>\n",
       "<p>1662 rows × 4 columns</p>\n",
       "</div>"
      ],
      "text/plain": [
       "        Entity Code         Day  Weekly cases\n",
       "24930  Austria  AUT  2020-01-10             0\n",
       "24931  Austria  AUT  2020-01-11             0\n",
       "24932  Austria  AUT  2020-01-12             0\n",
       "24933  Austria  AUT  2020-01-13             0\n",
       "24934  Austria  AUT  2020-01-14             0\n",
       "...        ...  ...         ...           ...\n",
       "26587  Austria  AUT  2024-07-24            12\n",
       "26588  Austria  AUT  2024-07-25            12\n",
       "26589  Austria  AUT  2024-07-26            12\n",
       "26590  Austria  AUT  2024-07-27            12\n",
       "26591  Austria  AUT  2024-07-28            15\n",
       "\n",
       "[1662 rows x 4 columns]"
      ]
     },
     "execution_count": 15,
     "metadata": {},
     "output_type": "execute_result"
    }
   ],
   "source": [
    "data_df"
   ]
  },
  {
   "cell_type": "code",
   "execution_count": 16,
   "metadata": {},
   "outputs": [
    {
     "data": {
      "text/plain": [
       "Entity          0\n",
       "Code            0\n",
       "Day             0\n",
       "Weekly cases    0\n",
       "dtype: int64"
      ]
     },
     "execution_count": 16,
     "metadata": {},
     "output_type": "execute_result"
    }
   ],
   "source": [
    "data_df.isna().sum()"
   ]
  },
  {
   "cell_type": "code",
   "execution_count": 17,
   "metadata": {},
   "outputs": [],
   "source": [
    "data_df.index = pd.DatetimeIndex(pd.to_datetime(data_df[\"Day\"])) #.sort_index(ascending=True, inplace=False)\n"
   ]
  },
  {
   "cell_type": "code",
   "execution_count": 18,
   "metadata": {},
   "outputs": [
    {
     "data": {
      "text/html": [
       "<div>\n",
       "<style scoped>\n",
       "    .dataframe tbody tr th:only-of-type {\n",
       "        vertical-align: middle;\n",
       "    }\n",
       "\n",
       "    .dataframe tbody tr th {\n",
       "        vertical-align: top;\n",
       "    }\n",
       "\n",
       "    .dataframe thead th {\n",
       "        text-align: right;\n",
       "    }\n",
       "</style>\n",
       "<table border=\"1\" class=\"dataframe\">\n",
       "  <thead>\n",
       "    <tr style=\"text-align: right;\">\n",
       "      <th></th>\n",
       "      <th>Entity</th>\n",
       "      <th>Code</th>\n",
       "      <th>Day</th>\n",
       "      <th>Weekly cases</th>\n",
       "    </tr>\n",
       "    <tr>\n",
       "      <th>Day</th>\n",
       "      <th></th>\n",
       "      <th></th>\n",
       "      <th></th>\n",
       "      <th></th>\n",
       "    </tr>\n",
       "  </thead>\n",
       "  <tbody>\n",
       "    <tr>\n",
       "      <th>2020-01-10</th>\n",
       "      <td>Austria</td>\n",
       "      <td>AUT</td>\n",
       "      <td>2020-01-10</td>\n",
       "      <td>0</td>\n",
       "    </tr>\n",
       "    <tr>\n",
       "      <th>2020-01-11</th>\n",
       "      <td>Austria</td>\n",
       "      <td>AUT</td>\n",
       "      <td>2020-01-11</td>\n",
       "      <td>0</td>\n",
       "    </tr>\n",
       "    <tr>\n",
       "      <th>2020-01-12</th>\n",
       "      <td>Austria</td>\n",
       "      <td>AUT</td>\n",
       "      <td>2020-01-12</td>\n",
       "      <td>0</td>\n",
       "    </tr>\n",
       "    <tr>\n",
       "      <th>2020-01-13</th>\n",
       "      <td>Austria</td>\n",
       "      <td>AUT</td>\n",
       "      <td>2020-01-13</td>\n",
       "      <td>0</td>\n",
       "    </tr>\n",
       "    <tr>\n",
       "      <th>2020-01-14</th>\n",
       "      <td>Austria</td>\n",
       "      <td>AUT</td>\n",
       "      <td>2020-01-14</td>\n",
       "      <td>0</td>\n",
       "    </tr>\n",
       "    <tr>\n",
       "      <th>...</th>\n",
       "      <td>...</td>\n",
       "      <td>...</td>\n",
       "      <td>...</td>\n",
       "      <td>...</td>\n",
       "    </tr>\n",
       "    <tr>\n",
       "      <th>2024-07-24</th>\n",
       "      <td>Austria</td>\n",
       "      <td>AUT</td>\n",
       "      <td>2024-07-24</td>\n",
       "      <td>12</td>\n",
       "    </tr>\n",
       "    <tr>\n",
       "      <th>2024-07-25</th>\n",
       "      <td>Austria</td>\n",
       "      <td>AUT</td>\n",
       "      <td>2024-07-25</td>\n",
       "      <td>12</td>\n",
       "    </tr>\n",
       "    <tr>\n",
       "      <th>2024-07-26</th>\n",
       "      <td>Austria</td>\n",
       "      <td>AUT</td>\n",
       "      <td>2024-07-26</td>\n",
       "      <td>12</td>\n",
       "    </tr>\n",
       "    <tr>\n",
       "      <th>2024-07-27</th>\n",
       "      <td>Austria</td>\n",
       "      <td>AUT</td>\n",
       "      <td>2024-07-27</td>\n",
       "      <td>12</td>\n",
       "    </tr>\n",
       "    <tr>\n",
       "      <th>2024-07-28</th>\n",
       "      <td>Austria</td>\n",
       "      <td>AUT</td>\n",
       "      <td>2024-07-28</td>\n",
       "      <td>15</td>\n",
       "    </tr>\n",
       "  </tbody>\n",
       "</table>\n",
       "<p>1662 rows × 4 columns</p>\n",
       "</div>"
      ],
      "text/plain": [
       "             Entity Code         Day  Weekly cases\n",
       "Day                                               \n",
       "2020-01-10  Austria  AUT  2020-01-10             0\n",
       "2020-01-11  Austria  AUT  2020-01-11             0\n",
       "2020-01-12  Austria  AUT  2020-01-12             0\n",
       "2020-01-13  Austria  AUT  2020-01-13             0\n",
       "2020-01-14  Austria  AUT  2020-01-14             0\n",
       "...             ...  ...         ...           ...\n",
       "2024-07-24  Austria  AUT  2024-07-24            12\n",
       "2024-07-25  Austria  AUT  2024-07-25            12\n",
       "2024-07-26  Austria  AUT  2024-07-26            12\n",
       "2024-07-27  Austria  AUT  2024-07-27            12\n",
       "2024-07-28  Austria  AUT  2024-07-28            15\n",
       "\n",
       "[1662 rows x 4 columns]"
      ]
     },
     "execution_count": 18,
     "metadata": {},
     "output_type": "execute_result"
    }
   ],
   "source": [
    "data_df"
   ]
  },
  {
   "cell_type": "code",
   "execution_count": 16,
   "metadata": {},
   "outputs": [],
   "source": [
    "my_range = pd.date_range(start=data_df['Day'].min(), end=data_df['Day'].max(), freq='D')\n"
   ]
  },
  {
   "cell_type": "code",
   "execution_count": 17,
   "metadata": {},
   "outputs": [
    {
     "data": {
      "text/plain": [
       "0"
      ]
     },
     "execution_count": 17,
     "metadata": {},
     "output_type": "execute_result"
    }
   ],
   "source": [
    "len(my_range[~my_range.isin(data_df.index)])\n"
   ]
  },
  {
   "cell_type": "code",
   "execution_count": 18,
   "metadata": {},
   "outputs": [
    {
     "data": {
      "text/plain": [
       "DatetimeIndex(['2020-03-01', '2020-03-02', '2020-03-03', '2020-03-04',\n",
       "               '2020-03-05', '2020-03-06', '2020-03-07', '2020-03-08',\n",
       "               '2020-03-09', '2020-03-10',\n",
       "               ...\n",
       "               '2024-05-03', '2024-05-04', '2024-05-05', '2024-05-06',\n",
       "               '2024-05-07', '2024-05-08', '2024-05-09', '2024-05-10',\n",
       "               '2024-05-11', '2024-05-12'],\n",
       "              dtype='datetime64[ns]', length=1534, freq='D')"
      ]
     },
     "execution_count": 18,
     "metadata": {},
     "output_type": "execute_result"
    }
   ],
   "source": [
    "my_range.drop_duplicates()"
   ]
  },
  {
   "cell_type": "code",
   "execution_count": 19,
   "metadata": {},
   "outputs": [
    {
     "name": "stdout",
     "output_type": "stream",
     "text": [
      "(1534, 5)\n"
     ]
    }
   ],
   "source": [
    "print(data_df.shape)\n",
    "new_df = pd.DataFrame()\n",
    "new_df.index = my_range\n",
    "new_df[\"Day\"] = my_range\n",
    "data_df = pd.merge(data_df, new_df, how=\"outer\", right_index=True, left_index=True, validate=\"many_to_many\")"
   ]
  },
  {
   "cell_type": "code",
   "execution_count": 20,
   "metadata": {},
   "outputs": [
    {
     "name": "stdout",
     "output_type": "stream",
     "text": [
      "             Entity Code       Day_x  Total confirmed deaths due to COVID-19  \\\n",
      "2020-03-01  Austria  AUT  2020-03-01                                     NaN   \n",
      "2020-03-02  Austria  AUT  2020-03-02                                     NaN   \n",
      "2020-03-03  Austria  AUT  2020-03-03                                     NaN   \n",
      "2020-03-04  Austria  AUT  2020-03-04                                     NaN   \n",
      "2020-03-05  Austria  AUT  2020-03-05                                     NaN   \n",
      "...             ...  ...         ...                                     ...   \n",
      "2024-05-08  Austria  AUT  2024-05-08                                 22534.0   \n",
      "2024-05-09  Austria  AUT  2024-05-09                                 22534.0   \n",
      "2024-05-10  Austria  AUT  2024-05-10                                 22534.0   \n",
      "2024-05-11  Austria  AUT  2024-05-11                                 22534.0   \n",
      "2024-05-12  Austria  AUT  2024-05-12                                 22534.0   \n",
      "\n",
      "            Total confirmed cases of COVID-19      Day_y  \n",
      "2020-03-01                                7.0 2020-03-01  \n",
      "2020-03-02                                7.0 2020-03-02  \n",
      "2020-03-03                                7.0 2020-03-03  \n",
      "2020-03-04                                7.0 2020-03-04  \n",
      "2020-03-05                                7.0 2020-03-05  \n",
      "...                                       ...        ...  \n",
      "2024-05-08                          6082347.0 2024-05-08  \n",
      "2024-05-09                          6082347.0 2024-05-09  \n",
      "2024-05-10                          6082347.0 2024-05-10  \n",
      "2024-05-11                          6082347.0 2024-05-11  \n",
      "2024-05-12                          6082347.0 2024-05-12  \n",
      "\n",
      "[1534 rows x 6 columns]\n"
     ]
    }
   ],
   "source": [
    "data_df.index.drop_duplicates()\n",
    "print(data_df)\n"
   ]
  },
  {
   "cell_type": "code",
   "execution_count": 21,
   "metadata": {},
   "outputs": [],
   "source": [
    "data_df = data_df.groupby(data_df.index).last()"
   ]
  },
  {
   "cell_type": "code",
   "execution_count": 22,
   "metadata": {},
   "outputs": [],
   "source": [
    "data_df = data_df.drop_duplicates(keep='last')"
   ]
  },
  {
   "cell_type": "code",
   "execution_count": 23,
   "metadata": {},
   "outputs": [
    {
     "name": "stdout",
     "output_type": "stream",
     "text": [
      "Duplicates: [False False False ... False False False]\n"
     ]
    }
   ],
   "source": [
    "print(f\"Duplicates: {data_df.index.duplicated()}\")\n"
   ]
  },
  {
   "cell_type": "code",
   "execution_count": 24,
   "metadata": {},
   "outputs": [],
   "source": [
    "data_df = data_df.drop(columns=['Day_x', 'Day_y'])\n"
   ]
  },
  {
   "cell_type": "code",
   "execution_count": 25,
   "metadata": {},
   "outputs": [],
   "source": [
    "data_df[\"Day\"] = data_df.index"
   ]
  },
  {
   "cell_type": "code",
   "execution_count": 26,
   "metadata": {},
   "outputs": [
    {
     "data": {
      "text/plain": [
       "Entity                                     0\n",
       "Code                                       0\n",
       "Total confirmed deaths due to COVID-19    14\n",
       "Total confirmed cases of COVID-19          0\n",
       "Day                                        0\n",
       "dtype: int64"
      ]
     },
     "execution_count": 26,
     "metadata": {},
     "output_type": "execute_result"
    }
   ],
   "source": [
    "data_df.isna().sum()"
   ]
  },
  {
   "cell_type": "code",
   "execution_count": 27,
   "metadata": {},
   "outputs": [],
   "source": [
    "data_df = data_df.fillna(0)"
   ]
  },
  {
   "cell_type": "code",
   "execution_count": 19,
   "metadata": {},
   "outputs": [
    {
     "data": {
      "text/html": [
       "<div>\n",
       "<style scoped>\n",
       "    .dataframe tbody tr th:only-of-type {\n",
       "        vertical-align: middle;\n",
       "    }\n",
       "\n",
       "    .dataframe tbody tr th {\n",
       "        vertical-align: top;\n",
       "    }\n",
       "\n",
       "    .dataframe thead th {\n",
       "        text-align: right;\n",
       "    }\n",
       "</style>\n",
       "<table border=\"1\" class=\"dataframe\">\n",
       "  <thead>\n",
       "    <tr style=\"text-align: right;\">\n",
       "      <th></th>\n",
       "      <th>Entity</th>\n",
       "      <th>Code</th>\n",
       "      <th>Day</th>\n",
       "      <th>Weekly cases</th>\n",
       "    </tr>\n",
       "    <tr>\n",
       "      <th>Day</th>\n",
       "      <th></th>\n",
       "      <th></th>\n",
       "      <th></th>\n",
       "      <th></th>\n",
       "    </tr>\n",
       "  </thead>\n",
       "  <tbody>\n",
       "    <tr>\n",
       "      <th>2020-01-10</th>\n",
       "      <td>Austria</td>\n",
       "      <td>AUT</td>\n",
       "      <td>2020-01-10</td>\n",
       "      <td>0</td>\n",
       "    </tr>\n",
       "    <tr>\n",
       "      <th>2020-01-11</th>\n",
       "      <td>Austria</td>\n",
       "      <td>AUT</td>\n",
       "      <td>2020-01-11</td>\n",
       "      <td>0</td>\n",
       "    </tr>\n",
       "    <tr>\n",
       "      <th>2020-01-12</th>\n",
       "      <td>Austria</td>\n",
       "      <td>AUT</td>\n",
       "      <td>2020-01-12</td>\n",
       "      <td>0</td>\n",
       "    </tr>\n",
       "    <tr>\n",
       "      <th>2020-01-13</th>\n",
       "      <td>Austria</td>\n",
       "      <td>AUT</td>\n",
       "      <td>2020-01-13</td>\n",
       "      <td>0</td>\n",
       "    </tr>\n",
       "    <tr>\n",
       "      <th>2020-01-14</th>\n",
       "      <td>Austria</td>\n",
       "      <td>AUT</td>\n",
       "      <td>2020-01-14</td>\n",
       "      <td>0</td>\n",
       "    </tr>\n",
       "    <tr>\n",
       "      <th>...</th>\n",
       "      <td>...</td>\n",
       "      <td>...</td>\n",
       "      <td>...</td>\n",
       "      <td>...</td>\n",
       "    </tr>\n",
       "    <tr>\n",
       "      <th>2024-07-24</th>\n",
       "      <td>Austria</td>\n",
       "      <td>AUT</td>\n",
       "      <td>2024-07-24</td>\n",
       "      <td>12</td>\n",
       "    </tr>\n",
       "    <tr>\n",
       "      <th>2024-07-25</th>\n",
       "      <td>Austria</td>\n",
       "      <td>AUT</td>\n",
       "      <td>2024-07-25</td>\n",
       "      <td>12</td>\n",
       "    </tr>\n",
       "    <tr>\n",
       "      <th>2024-07-26</th>\n",
       "      <td>Austria</td>\n",
       "      <td>AUT</td>\n",
       "      <td>2024-07-26</td>\n",
       "      <td>12</td>\n",
       "    </tr>\n",
       "    <tr>\n",
       "      <th>2024-07-27</th>\n",
       "      <td>Austria</td>\n",
       "      <td>AUT</td>\n",
       "      <td>2024-07-27</td>\n",
       "      <td>12</td>\n",
       "    </tr>\n",
       "    <tr>\n",
       "      <th>2024-07-28</th>\n",
       "      <td>Austria</td>\n",
       "      <td>AUT</td>\n",
       "      <td>2024-07-28</td>\n",
       "      <td>15</td>\n",
       "    </tr>\n",
       "  </tbody>\n",
       "</table>\n",
       "<p>1662 rows × 4 columns</p>\n",
       "</div>"
      ],
      "text/plain": [
       "             Entity Code         Day  Weekly cases\n",
       "Day                                               \n",
       "2020-01-10  Austria  AUT  2020-01-10             0\n",
       "2020-01-11  Austria  AUT  2020-01-11             0\n",
       "2020-01-12  Austria  AUT  2020-01-12             0\n",
       "2020-01-13  Austria  AUT  2020-01-13             0\n",
       "2020-01-14  Austria  AUT  2020-01-14             0\n",
       "...             ...  ...         ...           ...\n",
       "2024-07-24  Austria  AUT  2024-07-24            12\n",
       "2024-07-25  Austria  AUT  2024-07-25            12\n",
       "2024-07-26  Austria  AUT  2024-07-26            12\n",
       "2024-07-27  Austria  AUT  2024-07-27            12\n",
       "2024-07-28  Austria  AUT  2024-07-28            15\n",
       "\n",
       "[1662 rows x 4 columns]"
      ]
     },
     "execution_count": 19,
     "metadata": {},
     "output_type": "execute_result"
    }
   ],
   "source": [
    "data_df"
   ]
  },
  {
   "cell_type": "code",
   "execution_count": 20,
   "metadata": {},
   "outputs": [],
   "source": [
    "data_df1 = pd.read_csv('src/api/data/weekly-covid-deaths.csv')"
   ]
  },
  {
   "cell_type": "code",
   "execution_count": 21,
   "metadata": {},
   "outputs": [],
   "source": [
    "grouped = data_df1.groupby('Entity')\n"
   ]
  },
  {
   "cell_type": "code",
   "execution_count": 22,
   "metadata": {},
   "outputs": [],
   "source": [
    "data_df1 = data_df1[data_df1[\"Entity\"] == 'Austria']"
   ]
  },
  {
   "cell_type": "code",
   "execution_count": 23,
   "metadata": {},
   "outputs": [
    {
     "data": {
      "text/plain": [
       "Entity           0\n",
       "Code             0\n",
       "Day              0\n",
       "Weekly deaths    0\n",
       "dtype: int64"
      ]
     },
     "execution_count": 23,
     "metadata": {},
     "output_type": "execute_result"
    }
   ],
   "source": [
    "data_df1.isna().sum()"
   ]
  },
  {
   "cell_type": "code",
   "execution_count": 24,
   "metadata": {},
   "outputs": [],
   "source": [
    "data_df1.index = pd.DatetimeIndex(pd.to_datetime(data_df1[\"Day\"])) #.sort_index(ascending=True, inplace=False)\n"
   ]
  },
  {
   "cell_type": "code",
   "execution_count": 32,
   "metadata": {},
   "outputs": [
    {
     "data": {
      "text/html": [
       "<div>\n",
       "<style scoped>\n",
       "    .dataframe tbody tr th:only-of-type {\n",
       "        vertical-align: middle;\n",
       "    }\n",
       "\n",
       "    .dataframe tbody tr th {\n",
       "        vertical-align: top;\n",
       "    }\n",
       "\n",
       "    .dataframe thead th {\n",
       "        text-align: right;\n",
       "    }\n",
       "</style>\n",
       "<table border=\"1\" class=\"dataframe\">\n",
       "  <thead>\n",
       "    <tr style=\"text-align: right;\">\n",
       "      <th></th>\n",
       "      <th>Weekly cases</th>\n",
       "    </tr>\n",
       "    <tr>\n",
       "      <th>Day</th>\n",
       "      <th></th>\n",
       "    </tr>\n",
       "  </thead>\n",
       "  <tbody>\n",
       "    <tr>\n",
       "      <th>2020-01-10</th>\n",
       "      <td>0</td>\n",
       "    </tr>\n",
       "    <tr>\n",
       "      <th>2020-01-11</th>\n",
       "      <td>0</td>\n",
       "    </tr>\n",
       "    <tr>\n",
       "      <th>2020-01-12</th>\n",
       "      <td>0</td>\n",
       "    </tr>\n",
       "    <tr>\n",
       "      <th>2020-01-13</th>\n",
       "      <td>0</td>\n",
       "    </tr>\n",
       "    <tr>\n",
       "      <th>2020-01-14</th>\n",
       "      <td>0</td>\n",
       "    </tr>\n",
       "    <tr>\n",
       "      <th>...</th>\n",
       "      <td>...</td>\n",
       "    </tr>\n",
       "    <tr>\n",
       "      <th>2024-07-24</th>\n",
       "      <td>12</td>\n",
       "    </tr>\n",
       "    <tr>\n",
       "      <th>2024-07-25</th>\n",
       "      <td>12</td>\n",
       "    </tr>\n",
       "    <tr>\n",
       "      <th>2024-07-26</th>\n",
       "      <td>12</td>\n",
       "    </tr>\n",
       "    <tr>\n",
       "      <th>2024-07-27</th>\n",
       "      <td>12</td>\n",
       "    </tr>\n",
       "    <tr>\n",
       "      <th>2024-07-28</th>\n",
       "      <td>15</td>\n",
       "    </tr>\n",
       "  </tbody>\n",
       "</table>\n",
       "<p>1662 rows × 1 columns</p>\n",
       "</div>"
      ],
      "text/plain": [
       "            Weekly cases\n",
       "Day                     \n",
       "2020-01-10             0\n",
       "2020-01-11             0\n",
       "2020-01-12             0\n",
       "2020-01-13             0\n",
       "2020-01-14             0\n",
       "...                  ...\n",
       "2024-07-24            12\n",
       "2024-07-25            12\n",
       "2024-07-26            12\n",
       "2024-07-27            12\n",
       "2024-07-28            15\n",
       "\n",
       "[1662 rows x 1 columns]"
      ]
     },
     "execution_count": 32,
     "metadata": {},
     "output_type": "execute_result"
    }
   ],
   "source": [
    "data_df = data_df.drop(columns=['Entity', 'Code'])\n",
    "data_df"
   ]
  },
  {
   "cell_type": "code",
   "execution_count": 33,
   "metadata": {},
   "outputs": [
    {
     "data": {
      "text/html": [
       "<div>\n",
       "<style scoped>\n",
       "    .dataframe tbody tr th:only-of-type {\n",
       "        vertical-align: middle;\n",
       "    }\n",
       "\n",
       "    .dataframe tbody tr th {\n",
       "        vertical-align: top;\n",
       "    }\n",
       "\n",
       "    .dataframe thead th {\n",
       "        text-align: right;\n",
       "    }\n",
       "</style>\n",
       "<table border=\"1\" class=\"dataframe\">\n",
       "  <thead>\n",
       "    <tr style=\"text-align: right;\">\n",
       "      <th></th>\n",
       "      <th>Weekly deaths</th>\n",
       "    </tr>\n",
       "    <tr>\n",
       "      <th>Day</th>\n",
       "      <th></th>\n",
       "    </tr>\n",
       "  </thead>\n",
       "  <tbody>\n",
       "    <tr>\n",
       "      <th>2020-01-10</th>\n",
       "      <td>0</td>\n",
       "    </tr>\n",
       "    <tr>\n",
       "      <th>2020-01-11</th>\n",
       "      <td>0</td>\n",
       "    </tr>\n",
       "    <tr>\n",
       "      <th>2020-01-12</th>\n",
       "      <td>0</td>\n",
       "    </tr>\n",
       "    <tr>\n",
       "      <th>2020-01-13</th>\n",
       "      <td>0</td>\n",
       "    </tr>\n",
       "    <tr>\n",
       "      <th>2020-01-14</th>\n",
       "      <td>0</td>\n",
       "    </tr>\n",
       "    <tr>\n",
       "      <th>...</th>\n",
       "      <td>...</td>\n",
       "    </tr>\n",
       "    <tr>\n",
       "      <th>2024-07-24</th>\n",
       "      <td>0</td>\n",
       "    </tr>\n",
       "    <tr>\n",
       "      <th>2024-07-25</th>\n",
       "      <td>0</td>\n",
       "    </tr>\n",
       "    <tr>\n",
       "      <th>2024-07-26</th>\n",
       "      <td>0</td>\n",
       "    </tr>\n",
       "    <tr>\n",
       "      <th>2024-07-27</th>\n",
       "      <td>0</td>\n",
       "    </tr>\n",
       "    <tr>\n",
       "      <th>2024-07-28</th>\n",
       "      <td>0</td>\n",
       "    </tr>\n",
       "  </tbody>\n",
       "</table>\n",
       "<p>1662 rows × 1 columns</p>\n",
       "</div>"
      ],
      "text/plain": [
       "            Weekly deaths\n",
       "Day                      \n",
       "2020-01-10              0\n",
       "2020-01-11              0\n",
       "2020-01-12              0\n",
       "2020-01-13              0\n",
       "2020-01-14              0\n",
       "...                   ...\n",
       "2024-07-24              0\n",
       "2024-07-25              0\n",
       "2024-07-26              0\n",
       "2024-07-27              0\n",
       "2024-07-28              0\n",
       "\n",
       "[1662 rows x 1 columns]"
      ]
     },
     "execution_count": 33,
     "metadata": {},
     "output_type": "execute_result"
    }
   ],
   "source": [
    "data_df1 = data_df1.drop(columns=['Entity', 'Code'])\n",
    "data_df1"
   ]
  },
  {
   "cell_type": "code",
   "execution_count": 34,
   "metadata": {},
   "outputs": [],
   "source": [
    "joint = data_df.join(data_df1, how='inner', on=\"Day\")"
   ]
  },
  {
   "cell_type": "code",
   "execution_count": 36,
   "metadata": {},
   "outputs": [
    {
     "data": {
      "text/html": [
       "<div>\n",
       "<style scoped>\n",
       "    .dataframe tbody tr th:only-of-type {\n",
       "        vertical-align: middle;\n",
       "    }\n",
       "\n",
       "    .dataframe tbody tr th {\n",
       "        vertical-align: top;\n",
       "    }\n",
       "\n",
       "    .dataframe thead th {\n",
       "        text-align: right;\n",
       "    }\n",
       "</style>\n",
       "<table border=\"1\" class=\"dataframe\">\n",
       "  <thead>\n",
       "    <tr style=\"text-align: right;\">\n",
       "      <th></th>\n",
       "      <th>Weekly cases</th>\n",
       "      <th>Weekly deaths</th>\n",
       "    </tr>\n",
       "    <tr>\n",
       "      <th>Day</th>\n",
       "      <th></th>\n",
       "      <th></th>\n",
       "    </tr>\n",
       "  </thead>\n",
       "  <tbody>\n",
       "    <tr>\n",
       "      <th>2020-01-10</th>\n",
       "      <td>0</td>\n",
       "      <td>0</td>\n",
       "    </tr>\n",
       "    <tr>\n",
       "      <th>2020-01-11</th>\n",
       "      <td>0</td>\n",
       "      <td>0</td>\n",
       "    </tr>\n",
       "    <tr>\n",
       "      <th>2020-01-12</th>\n",
       "      <td>0</td>\n",
       "      <td>0</td>\n",
       "    </tr>\n",
       "    <tr>\n",
       "      <th>2020-01-13</th>\n",
       "      <td>0</td>\n",
       "      <td>0</td>\n",
       "    </tr>\n",
       "    <tr>\n",
       "      <th>2020-01-14</th>\n",
       "      <td>0</td>\n",
       "      <td>0</td>\n",
       "    </tr>\n",
       "    <tr>\n",
       "      <th>...</th>\n",
       "      <td>...</td>\n",
       "      <td>...</td>\n",
       "    </tr>\n",
       "    <tr>\n",
       "      <th>2024-07-24</th>\n",
       "      <td>12</td>\n",
       "      <td>0</td>\n",
       "    </tr>\n",
       "    <tr>\n",
       "      <th>2024-07-25</th>\n",
       "      <td>12</td>\n",
       "      <td>0</td>\n",
       "    </tr>\n",
       "    <tr>\n",
       "      <th>2024-07-26</th>\n",
       "      <td>12</td>\n",
       "      <td>0</td>\n",
       "    </tr>\n",
       "    <tr>\n",
       "      <th>2024-07-27</th>\n",
       "      <td>12</td>\n",
       "      <td>0</td>\n",
       "    </tr>\n",
       "    <tr>\n",
       "      <th>2024-07-28</th>\n",
       "      <td>15</td>\n",
       "      <td>0</td>\n",
       "    </tr>\n",
       "  </tbody>\n",
       "</table>\n",
       "<p>1662 rows × 2 columns</p>\n",
       "</div>"
      ],
      "text/plain": [
       "            Weekly cases  Weekly deaths\n",
       "Day                                    \n",
       "2020-01-10             0              0\n",
       "2020-01-11             0              0\n",
       "2020-01-12             0              0\n",
       "2020-01-13             0              0\n",
       "2020-01-14             0              0\n",
       "...                  ...            ...\n",
       "2024-07-24            12              0\n",
       "2024-07-25            12              0\n",
       "2024-07-26            12              0\n",
       "2024-07-27            12              0\n",
       "2024-07-28            15              0\n",
       "\n",
       "[1662 rows x 2 columns]"
      ]
     },
     "execution_count": 36,
     "metadata": {},
     "output_type": "execute_result"
    }
   ],
   "source": [
    "joint"
   ]
  },
  {
   "cell_type": "code",
   "execution_count": 38,
   "metadata": {},
   "outputs": [],
   "source": [
    "joint[\"timestamp\"] = joint.index"
   ]
  },
  {
   "cell_type": "code",
   "execution_count": 39,
   "metadata": {},
   "outputs": [],
   "source": [
    "joint.to_json('./src/api/data/non-cumulative-deaths-and-cases-covid_14-08-24_Austria.json', orient=\"records\")"
   ]
  }
 ],
 "metadata": {
  "kernelspec": {
   "display_name": "Python 3",
   "language": "python",
   "name": "python3"
  },
  "language_info": {
   "codemirror_mode": {
    "name": "ipython",
    "version": 3
   },
   "file_extension": ".py",
   "mimetype": "text/x-python",
   "name": "python",
   "nbconvert_exporter": "python",
   "pygments_lexer": "ipython3",
   "version": "3.10.14"
  }
 },
 "nbformat": 4,
 "nbformat_minor": 2
}
